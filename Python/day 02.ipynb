{
 "cells": [
  {
   "cell_type": "code",
   "execution_count": 6,
   "metadata": {},
   "outputs": [
    {
     "name": "stdout",
     "output_type": "stream",
     "text": [
      "1808.64\n"
     ]
    }
   ],
   "source": [
    "#Functions\n",
    "\n",
    "#Area func with para and without return\n",
    "def area_c(r):\n",
    "    area =3.14*r**2\n",
    "    print(area)\n",
    "area_c(24)\n",
    "\n"
   ]
  },
  {
   "cell_type": "code",
   "execution_count": 9,
   "metadata": {},
   "outputs": [
    {
     "data": {
      "text/plain": [
       "1808.64"
      ]
     },
     "execution_count": 9,
     "metadata": {},
     "output_type": "execute_result"
    }
   ],
   "source": [
    "\n",
    "#Area func without para and with return\n",
    "def area_c():\n",
    "    r=int(input())\n",
    "    area =3.14*r**2\n",
    "    return area\n",
    "area_c()"
   ]
  },
  {
   "cell_type": "code",
   "execution_count": 13,
   "metadata": {},
   "outputs": [
    {
     "name": "stdout",
     "output_type": "stream",
     "text": [
      "1808.64\n"
     ]
    }
   ],
   "source": [
    "#Area func without para and without return\n",
    "def area_c():\n",
    "    r=int(input())\n",
    "    area =3.14*r**2\n",
    "    print(area)\n",
    "area_c()"
   ]
  },
  {
   "cell_type": "code",
   "execution_count": 14,
   "metadata": {},
   "outputs": [
    {
     "name": "stdout",
     "output_type": "stream",
     "text": [
      "1808.64\n"
     ]
    }
   ],
   "source": [
    "#Area func with para and with return\n",
    "def area_c(r):\n",
    "    area =3.14*r**2\n",
    "    return area\n",
    "a=area_c(24)\n",
    "print(a)\n"
   ]
  },
  {
   "cell_type": "code",
   "execution_count": 23,
   "metadata": {},
   "outputs": [
    {
     "name": "stdout",
     "output_type": "stream",
     "text": [
      "name  Nikhil invested 1000  got a return of  160.0\n",
      "name  Anand invested 2000  got a return of  700.0\n",
      "name  Shiva invested 6000  got a return of  1800.0\n",
      "name  Maga invested 10000  got a return of  2700.0\n",
      "name  ram invested 2500  got a return of  412.5\n"
     ]
    }
   ],
   "source": [
    "#without para and without return\n",
    "def SI():\n",
    "    si=[]\n",
    "    name=['Nikhil','Anand','Shiva','Maga','ram']\n",
    "    pr=[1000,2000,6000,10000,2500]\n",
    "    year=[2,5,4,3,2.5]\n",
    "    rt=[8,7,7.5,9,6.6]\n",
    "    for i in range(len(name)):\n",
    "        s=(pr[i]* rt[i]*year[i])/100\n",
    "        si.append(s)\n",
    "    for j in range(len(name)):\n",
    "        print(\"name \", name[j],\"invested\",pr[j],\" got a return of \", si[j])\n",
    "\n",
    "SI()"
   ]
  },
  {
   "cell_type": "code",
   "execution_count": 59,
   "metadata": {},
   "outputs": [
    {
     "data": {
      "text/plain": [
       "[160.0]"
      ]
     },
     "execution_count": 59,
     "metadata": {},
     "output_type": "execute_result"
    }
   ],
   "source": [
    "#without para and with return\n",
    "def SI():\n",
    "    si=[]\n",
    "    name=['Nikhil','Anand','Shiva','Maga','ram']\n",
    "    pr=[1000,2000,6000,10000,2500]\n",
    "    year=[2,5,4,3,2.5]\n",
    "    rt=[8,7,7.5,9,6.6]\n",
    "    for i in range(len(name)):\n",
    "        s=(pr[i]* rt[i]*year[i])/100\n",
    "        si.append(s)\n",
    "        return si\n",
    "    b=SI()\n",
    "    for j in range(len(name)):\n",
    "       print( \"name \", name[j],\"invested\",pr[j],\" got a return of \", b[j])\n",
    "\n",
    "SI()\n"
   ]
  },
  {
   "cell_type": "code",
   "execution_count": 33,
   "metadata": {},
   "outputs": [
    {
     "name": "stdout",
     "output_type": "stream",
     "text": [
      "name  Nikhil invested 1000  got a return of  160.0\n",
      "name  Anand invested 2000  got a return of  700.0\n",
      "name  Shiva invested 6000  got a return of  1800.0\n",
      "name  Maga invested 10000  got a return of  2700.0\n",
      "name  ram invested 2500  got a return of  412.5\n"
     ]
    }
   ],
   "source": [
    "#with para and with return\n",
    "def SI(x,y,z,a):\n",
    " si=[]\n",
    "   \n",
    " for i in range(len(name)):\n",
    "    s=(pr[i]* rt[i]*year[i])/100\n",
    "    si.append(s)\n",
    " return si \n",
    "name=['Nikhil','Anand','Shiva','Maga','ram']\n",
    "pr=[1000,2000,6000,10000,2500]\n",
    "year=[2,5,4,3,2.5]\n",
    "rt=[8,7,7.5,9,6.6]\n",
    "b=SI(name,pr,year,rt)\n",
    "for j in range(len(b)):\n",
    "    print( \"name \", name[j],\"invested\",pr[j],\" got a return of \", b[j])\n"
   ]
  },
  {
   "cell_type": "code",
   "execution_count": 35,
   "metadata": {},
   "outputs": [
    {
     "name": "stdout",
     "output_type": "stream",
     "text": [
      "name  Nikhil invested 1000  got a return of  160.0\n",
      "name  Anand invested 2000  got a return of  700.0\n",
      "name  Shiva invested 6000  got a return of  1800.0\n",
      "name  Maga invested 10000  got a return of  2700.0\n",
      "name  ram invested 2500  got a return of  412.5\n"
     ]
    }
   ],
   "source": [
    "#with para and without return\n",
    "def SI(x,y,z,a):\n",
    " si=[]\n",
    "   \n",
    " for i in range(len(name)):\n",
    "    s=(pr[i]* rt[i]*year[i])/100\n",
    "    si.append(s)\n",
    " for j in range(len(name)):\n",
    "    print( \"name \", name[j],\"invested\",pr[j],\" got a return of \", si[j])\n",
    "\n",
    "name=['Nikhil','Anand','Shiva','Maga','ram']\n",
    "pr=[1000,2000,6000,10000,2500]\n",
    "year=[2,5,4,3,2.5]\n",
    "rt=[8,7,7.5,9,6.6]\n",
    "SI(name,pr,year,rt)"
   ]
  },
  {
   "cell_type": "code",
   "execution_count": 37,
   "metadata": {},
   "outputs": [
    {
     "name": "stdout",
     "output_type": "stream",
     "text": [
      "(12, 'name', 'asd', [50, 60, 70, 80, 90])\n",
      "350\n"
     ]
    }
   ],
   "source": [
    "#variable lenght arguments (*)\n",
    "def data(*a):\n",
    "    print(a)\n",
    "    marks=a[3]\n",
    "    print(sum(marks))\n",
    "data(12,'name','asd',[50,60,70,80,90])"
   ]
  },
  {
   "cell_type": "code",
   "execution_count": 48,
   "metadata": {},
   "outputs": [
    {
     "name": "stdout",
     "output_type": "stream",
     "text": [
      "{'age': 12, 'name': 'name', 'school': 'asd', 'marks': [50, 60, 70, 80, 90]}\n",
      "350\n"
     ]
    }
   ],
   "source": [
    "#variable lenght keyword arguments (**)\n",
    "def data(**a):\n",
    "    print(a)\n",
    "    b=a['marks']\n",
    "    print(sum(b))\n",
    "data(age=12,name='name', school='asd', marks=[50,60,70,80,90])"
   ]
  },
  {
   "cell_type": "code",
   "execution_count": 50,
   "metadata": {},
   "outputs": [
    {
     "name": "stdout",
     "output_type": "stream",
     "text": [
      "nam\n",
      "('asd', [50, 60, 70, 80, 90])\n"
     ]
    }
   ],
   "source": [
    "#variable lenght arguments (*)\n",
    "def data(name,sec,*a):\n",
    "    print(name)\n",
    "    print(a)\n",
    "\n",
    "data('nam','A','asd',[50,60,70,80,90])"
   ]
  },
  {
   "cell_type": "code",
   "execution_count": 56,
   "metadata": {},
   "outputs": [
    {
     "name": "stdout",
     "output_type": "stream",
     "text": [
      "1 2 3 4\n"
     ]
    },
    {
     "data": {
      "text/plain": [
       "10"
      ]
     },
     "execution_count": 56,
     "metadata": {},
     "output_type": "execute_result"
    }
   ],
   "source": [
    "# positionaal only parameters. Only after '/' you can give position not before the '/' \n",
    "def num(a,b,/,c,d):\n",
    "    print(a,b,c,d)\n",
    "    return a+b+c+d\n",
    "a=num(1,2,c=3,d=4)\n",
    "a\n"
   ]
  },
  {
   "cell_type": "code",
   "execution_count": 60,
   "metadata": {},
   "outputs": [
    {
     "name": "stdout",
     "output_type": "stream",
     "text": [
      "1 2 3 4\n"
     ]
    },
    {
     "data": {
      "text/plain": [
       "10"
      ]
     },
     "execution_count": 60,
     "metadata": {},
     "output_type": "execute_result"
    }
   ],
   "source": [
    "# positionaal only parameters.  after '*' shoud be in keyword \n",
    "def num(a,b,*,c,d):\n",
    "    print(a,b,c,d)\n",
    "    return a+b+c+d\n",
    "a=num(1,2,c=3,d=4)\n",
    "a"
   ]
  },
  {
   "cell_type": "code",
   "execution_count": 1,
   "metadata": {},
   "outputs": [
    {
     "data": {
      "text/plain": [
       "22"
      ]
     },
     "execution_count": 1,
     "metadata": {},
     "output_type": "execute_result"
    }
   ],
   "source": [
    "''' define a function process_data that:\n",
    "accepts a mandatory operation argument (e.g., \"sum\" or \"products\")\n",
    "takes any number of integers using *args.\n",
    "uses keyword-only arguments for start_value (default 0) and\n",
    "factor (default 1) to modify the final result.'''\n",
    "\n",
    "# it should ask the user whether want to add or product and it will save in operation. *a it will take all the values.\n",
    " \n",
    "def OP(operation,*a):\n",
    "    s=0\n",
    "    p=1\n",
    "    if operation == 'add':\n",
    "        for i in a:\n",
    "            s=s+i\n",
    "        return s\n",
    "    else:\n",
    "        for i in a:\n",
    "          p=p*i\n",
    "        return p\n",
    "    \n",
    "OP('add',5,2,4,5,6)\n",
    " \n",
    "        \n",
    "\n",
    "            \n",
    "\n",
    "\n"
   ]
  },
  {
   "cell_type": "code",
   "execution_count": 3,
   "metadata": {},
   "outputs": [
    {
     "name": "stdout",
     "output_type": "stream",
     "text": [
      "22\n",
      "72\n"
     ]
    }
   ],
   "source": [
    "''' define a function process_data that:\n",
    "accepts a mandatory operation argument (e.g., \"sum\" or \"products\")\n",
    "takes any number of integers using *args.\n",
    "uses keyword-only arguments for start_value (default 0) and\n",
    "factor (default 1) to modify the final result.'''\n",
    "\n",
    "# it should ask the user whether want to add or product and it will save in operation. *a it will take all the values.\n",
    " \n",
    "def OP(operation,*args,start_value=0,factor=1):\n",
    "  \n",
    "    if operation == 'sum':\n",
    "       r=sum(args) + start_value\n",
    "    elif operation == 'product':\n",
    "       r= start_value\n",
    "       for i in args:\n",
    "          r *=i\n",
    "    else:\n",
    "        raise ValueError(\"INVAILD\")\n",
    "    return r*factor\n",
    "print(OP(\"sum\",1,2,3,start_value=5,factor=2))\n",
    "print(OP(\"product\",2,3,4,start_value=1,factor=3))\n",
    "    \n",
    "\n",
    " "
   ]
  },
  {
   "cell_type": "code",
   "execution_count": 83,
   "metadata": {},
   "outputs": [
    {
     "name": "stdout",
     "output_type": "stream",
     "text": [
      "6\n"
     ]
    }
   ],
   "source": [
    "#recursion()\n",
    "\n",
    "\n",
    "def fact(n):\n",
    "    if n==1 :\n",
    "        return 1\n",
    "    else:\n",
    "        return n* fact(n-1)\n",
    "def fact(n):\n",
    "    if n==1:\n",
    "        return 1\n",
    "    else:\n",
    "        return n * fact(n-1)\n",
    "def fact(n):\n",
    "    if n == 1:\n",
    "        return 1\n",
    "    else:\n",
    "        return n * fact(n-1)\n",
    "x=fact(3)\n",
    "print(x)"
   ]
  },
  {
   "cell_type": "code",
   "execution_count": 89,
   "metadata": {},
   "outputs": [
    {
     "name": "stdout",
     "output_type": "stream",
     "text": [
      "55\n"
     ]
    }
   ],
   "source": [
    "#recursion() - with parameter and with\n",
    "\n",
    "\n",
    "def fact(n):\n",
    "    if n==1 :\n",
    "        return 1\n",
    "    else:\n",
    "        return n + fact(n-1)\n",
    "def fact(n):\n",
    "    if n==1:\n",
    "        return 1\n",
    "    else:\n",
    "        return n + fact(n-1)\n",
    "def fact(n):\n",
    "    if n == 1:\n",
    "        return 1\n",
    "    else:\n",
    "        return n +  fact(n-1)\n",
    "x=fact(10)\n",
    "print(x)"
   ]
  },
  {
   "cell_type": "code",
   "execution_count": 92,
   "metadata": {},
   "outputs": [
    {
     "name": "stdout",
     "output_type": "stream",
     "text": [
      "the factorial of  6 is 720\n"
     ]
    }
   ],
   "source": [
    "def fact(x):\n",
    "    if x == 1:\n",
    "        return 1\n",
    "    else:\n",
    "        return (x*fact(x-1))\n",
    "num=6\n",
    "print(\"the factorial of \",num,\"is\",fact(num))"
   ]
  },
  {
   "cell_type": "code",
   "execution_count": 4,
   "metadata": {},
   "outputs": [
    {
     "name": "stdout",
     "output_type": "stream",
     "text": [
      "10\n"
     ]
    }
   ],
   "source": [
    "s=0\n",
    "def fun(n):\n",
    "    if n==0:\n",
    "        return 0\n",
    "    else:\n",
    "        return (n%10 + fun(int(n/10)))\n",
    "    \n",
    "r=fun(1234)\n",
    "print(r)"
   ]
  },
  {
   "cell_type": "code",
   "execution_count": 8,
   "metadata": {},
   "outputs": [
    {
     "name": "stdout",
     "output_type": "stream",
     "text": [
      "3\n",
      "5\n",
      "7\n",
      "3\n"
     ]
    }
   ],
   "source": [
    "# nested function OR Closure\n",
    " \n",
    "def calculate():\n",
    "    num =1\n",
    "    def inner_func():\n",
    "        nonlocal num\n",
    "        num +=2\n",
    "        return num\n",
    "    return inner_func\n",
    "#call the outer function\n",
    "odd = calculate()\n",
    " \n",
    "#call the inner function\n",
    "print(odd()) #3\n",
    "print(odd()) #5\n",
    "print(odd()) #7\n",
    "\n",
    "\n",
    " \n",
    "#call the outer function again\n",
    "odd2 = calculate()\n",
    "print(odd2()) #3\n",
    " \n",
    " \n"
   ]
  },
  {
   "cell_type": "code",
   "execution_count": 113,
   "metadata": {},
   "outputs": [
    {
     "name": "stdout",
     "output_type": "stream",
     "text": [
      "15\n",
      "5\n",
      "20\n",
      "5.0\n"
     ]
    }
   ],
   "source": [
    "def get_math(operation):\n",
    "    def add(a,b):\n",
    "        return a+b\n",
    "    def sub(a,b):\n",
    "        return a-b\n",
    "    def mul(a,b):\n",
    "        return a*b\n",
    "    def div(a,b):\n",
    "        return a/b if b!=0 else \"Cannot divide by zero\"\n",
    "    if operation == \"add\":\n",
    "        return add\n",
    "    elif operation == \"subtract\":\n",
    "        return sub\n",
    "    elif operation == \"multiply\":\n",
    "        return mul\n",
    "    elif operation == \"divide\":\n",
    "        return div\n",
    "    else:\n",
    "        raise ValueError(\"Invalid operation \")\n",
    "adder= get_math(\"add\")\n",
    "print(adder(10,5)) \n",
    "sub= get_math(\"subtract\")\n",
    "print(sub(10,5)) \n",
    "mul= get_math(\"multiply\")\n",
    "print(mul(10,2)) \n",
    "div= get_math(\"divide\")\n",
    "print(div(10,2)) "
   ]
  },
  {
   "cell_type": "code",
   "execution_count": 114,
   "metadata": {},
   "outputs": [
    {
     "name": "stdout",
     "output_type": "stream",
     "text": [
      "Before the function\n",
      "Hello!!\n",
      "After the function\n",
      "Hello!!\n"
     ]
    }
   ],
   "source": [
    "def my_decorator(func):\n",
    "    def wrapper():\n",
    "        print(\"Before the function\")\n",
    "        func()\n",
    "        print(\"After the function\")\n",
    "        func()\n",
    "    return wrapper #calling the wrapper function\n",
    "@my_decorator\n",
    "def say_hello():\n",
    "    print(\"Hello!!\")\n",
    "say_hello()"
   ]
  },
  {
   "cell_type": "code",
   "execution_count": 119,
   "metadata": {},
   "outputs": [
    {
     "name": "stdout",
     "output_type": "stream",
     "text": [
      "400\n",
      "200\n"
     ]
    }
   ],
   "source": [
    "def decor1(func):\n",
    "    def inner():\n",
    "        x=func() \n",
    "        return x * x #20 * 20\n",
    "    return inner\n",
    "def decor(func):\n",
    "    def inner():\n",
    "        x=func() #10\n",
    "        return 2 * x #20\n",
    "    return inner\n",
    "\n",
    "@decor1\n",
    "@decor\n",
    "def num():\n",
    "    return 10\n",
    "@decor\n",
    "@decor1\n",
    "def num2():\n",
    "    return 10\n",
    "print(num())\n",
    "print(num2()) "
   ]
  },
  {
   "cell_type": "code",
   "execution_count": 122,
   "metadata": {},
   "outputs": [
    {
     "name": "stdout",
     "output_type": "stream",
     "text": [
      "Function greet called 1 times\n",
      "Hello!\n",
      "Function greet called 2 times\n",
      "Hello!\n"
     ]
    }
   ],
   "source": [
    "def make_timer():\n",
    "    count=0\n",
    "    def timer(func):\n",
    "        def wrapper():\n",
    "            nonlocal count\n",
    "            count +=1\n",
    "            print(f\"Function {func.__name__} called {count} times\")\n",
    "            return func()\n",
    "        return wrapper\n",
    "    return timer\n",
    "\n",
    "timer = make_timer()\n",
    "\n",
    "@timer\n",
    "def greet():\n",
    "    print(\"Hello!\")\n",
    "\n",
    "greet()\n",
    "greet()"
   ]
  },
  {
   "cell_type": "code",
   "execution_count": 132,
   "metadata": {},
   "outputs": [
    {
     "data": {
      "text/plain": [
       "[3.14, 12.56, 28.26, 50.24, 78.5]"
      ]
     },
     "execution_count": 132,
     "metadata": {},
     "output_type": "execute_result"
    }
   ],
   "source": [
    "#yield - generator. this generator will store the all the values and we have to give any \n",
    "r=[1,2,3,4,5]\n",
    "def area(r):\n",
    "    for i in r:\n",
    "        a=3.14*i**2\n",
    "        yield a\n",
    "s=area(r)\n",
    "list(s)"
   ]
  },
  {
   "cell_type": "code",
   "execution_count": 143,
   "metadata": {},
   "outputs": [
    {
     "data": {
      "text/plain": [
       "(2, 4, 6, 8)"
      ]
     },
     "execution_count": 143,
     "metadata": {},
     "output_type": "execute_result"
    }
   ],
   "source": [
    "l=[1,2,3,4,5,6,7,8]\n",
    "\n",
    "def area(r):\n",
    "    for i in r:\n",
    "        if i%2==0:\n",
    "            yield i\n",
    "       \n",
    "s=area(l)\n",
    "tuple(s)\n",
    "\n"
   ]
  },
  {
   "cell_type": "code",
   "execution_count": 147,
   "metadata": {},
   "outputs": [
    {
     "name": "stdout",
     "output_type": "stream",
     "text": [
      "hello\n",
      "world\n"
     ]
    }
   ],
   "source": [
    "def fun():\n",
    "    yield 'hello'\n",
    "    yield 'world'\n",
    "for i in fun():\n",
    "    print(i)"
   ]
  },
  {
   "cell_type": "code",
   "execution_count": 60,
   "metadata": {},
   "outputs": [
    {
     "name": "stdout",
     "output_type": "stream",
     "text": [
      "[1, 3]\n"
     ]
    }
   ],
   "source": [
    "# #find factors of a number\n",
    "\n",
    "# n=int(input())\n",
    "\n",
    "# for i in range(0,11):\n",
    "#     if n%i==0:\n",
    "#         print(n,\"is divisible by\", i)\n",
    "\n",
    "    \n",
    "n = int(input())\n",
    "def cou(n):\n",
    "    for i in range(1,n+1):\n",
    "        if n%i==0:\n",
    "            yield i\n",
    "print(list(cou(n)))"
   ]
  },
  {
   "cell_type": "code",
   "execution_count": 169,
   "metadata": {},
   "outputs": [
    {
     "name": "stdout",
     "output_type": "stream",
     "text": [
      "[1, -2, 3, -4, 5, -6, 7, -8, 9, -10]\n"
     ]
    }
   ],
   "source": [
    "n = int(input())\n",
    "def cou(n):\n",
    "    for i in range(1,n+1):\n",
    "        if i%2==0:\n",
    "            yield -i\n",
    "        else:\n",
    "            yield i\n",
    "       \n",
    "print(list(cou(n)))\n",
    "\n",
    "\n"
   ]
  },
  {
   "cell_type": "code",
   "execution_count": 170,
   "metadata": {},
   "outputs": [
    {
     "name": "stdout",
     "output_type": "stream",
     "text": [
      "1200\n"
     ]
    }
   ],
   "source": [
    "\n",
    "\n",
    "\n",
    "def qua(item,quality,discount=0,tax_rate=5):\n",
    "   total=(item * quality)*(1-discount)*(1+tax_rate)\n",
    "   return total\n",
    "\n",
    "print(qua(200 ,1,discount=0,tax_rate=5))"
   ]
  },
  {
   "cell_type": "code",
   "execution_count": 172,
   "metadata": {},
   "outputs": [
    {
     "data": {
      "text/plain": [
       "360"
      ]
     },
     "execution_count": 172,
     "metadata": {},
     "output_type": "execute_result"
    }
   ],
   "source": [
    "double=lambda x,y,z:x*2+y*3+z\n",
    "double(100,50,10)"
   ]
  },
  {
   "cell_type": "code",
   "execution_count": 176,
   "metadata": {},
   "outputs": [
    {
     "data": {
      "text/plain": [
       "20"
      ]
     },
     "execution_count": 176,
     "metadata": {},
     "output_type": "execute_result"
    }
   ],
   "source": [
    "s=lambda a,b:a if a>b else b\n",
    "s(10,20)"
   ]
  },
  {
   "cell_type": "code",
   "execution_count": 178,
   "metadata": {},
   "outputs": [
    {
     "data": {
      "text/plain": [
       "8"
      ]
     },
     "execution_count": 178,
     "metadata": {},
     "output_type": "execute_result"
    }
   ],
   "source": [
    "p=lambda x,y:x**y\n",
    "p(2,3)\n"
   ]
  },
  {
   "cell_type": "code",
   "execution_count": 194,
   "metadata": {},
   "outputs": [
    {
     "data": {
      "text/plain": [
       "'-1'"
      ]
     },
     "execution_count": 194,
     "metadata": {},
     "output_type": "execute_result"
    }
   ],
   "source": [
    "c=lambda x: x if x <0  else '-'+str(x)\n",
    "c(1)"
   ]
  },
  {
   "cell_type": "code",
   "execution_count": 204,
   "metadata": {},
   "outputs": [
    {
     "data": {
      "text/plain": [
       "[3, 6, 9]"
      ]
     },
     "execution_count": 204,
     "metadata": {},
     "output_type": "execute_result"
    }
   ],
   "source": [
    "m=lambda l,n:[x * n for x in l]\n",
    "r=m([1,2,3],3)\n",
    "r"
   ]
  },
  {
   "cell_type": "code",
   "execution_count": 207,
   "metadata": {},
   "outputs": [
    {
     "name": "stdout",
     "output_type": "stream",
     "text": [
      "pyt\n"
     ]
    }
   ],
   "source": [
    "m= lambda s,n:s[:n]\n",
    "r=m('python',3)\n",
    "print(r)"
   ]
  },
  {
   "cell_type": "code",
   "execution_count": 209,
   "metadata": {},
   "outputs": [
    {
     "name": "stdout",
     "output_type": "stream",
     "text": [
      "True\n"
     ]
    }
   ],
   "source": [
    "m=lambda p:p == p[::-1]\n",
    "a=m('radar')\n",
    "print(a)"
   ]
  },
  {
   "cell_type": "code",
   "execution_count": 223,
   "metadata": {},
   "outputs": [
    {
     "name": "stdout",
     "output_type": "stream",
     "text": [
      "[8, 10]\n"
     ]
    }
   ],
   "source": [
    "val=lambda l,n: [x for x in l if x>n ]\n",
    "a=val([1,4,8,3,7,1,2,5,10],7)\n",
    "print(a)"
   ]
  },
  {
   "cell_type": "code",
   "execution_count": 225,
   "metadata": {},
   "outputs": [
    {
     "data": {
      "text/plain": [
       "120"
      ]
     },
     "execution_count": 225,
     "metadata": {},
     "output_type": "execute_result"
    }
   ],
   "source": [
    "a= lambda x: 1 if x==1 else x*fact(x-1)\n",
    "a=fact(5)\n",
    "a\n",
    "\n"
   ]
  },
  {
   "cell_type": "code",
   "execution_count": 267,
   "metadata": {},
   "outputs": [
    {
     "name": "stdout",
     "output_type": "stream",
     "text": [
      "True\n"
     ]
    }
   ],
   "source": [
    "y= lambda year: (year % 4 == 0 and year % 100 != 0) or (year % 400 == 0)\n",
    "year=y(2024)\n",
    "print(year)"
   ]
  },
  {
   "cell_type": "code",
   "execution_count": 269,
   "metadata": {},
   "outputs": [
    {
     "data": {
      "text/plain": [
       "2"
      ]
     },
     "execution_count": 269,
     "metadata": {},
     "output_type": "execute_result"
    }
   ],
   "source": [
    "#vowels\n",
    "vcount=lambda a: sum(1 for i in a if i in 'aeiouAEIOU')\n",
    "vcount('hello')"
   ]
  },
  {
   "cell_type": "code",
   "execution_count": 272,
   "metadata": {},
   "outputs": [
    {
     "name": "stdout",
     "output_type": "stream",
     "text": [
      "3\n"
     ]
    }
   ],
   "source": [
    "#count\n",
    "uc=lambda a: sum(1 for i in a if i.isupper())\n",
    "a=uc('aBcDCrl')\n",
    "print(a)"
   ]
  },
  {
   "cell_type": "code",
   "execution_count": 290,
   "metadata": {},
   "outputs": [
    {
     "name": "stdout",
     "output_type": "stream",
     "text": [
      "[2]\n"
     ]
    }
   ],
   "source": [
    "#lis([1,2,3],[4,5,6])\n",
    "val=lambda l,n: [x for x in l if x in n]\n",
    "a=val([1,2,3],[4,2,6])\n",
    "print(a)"
   ]
  },
  {
   "cell_type": "code",
   "execution_count": 294,
   "metadata": {},
   "outputs": [
    {
     "name": "stdout",
     "output_type": "stream",
     "text": [
      "[1, 2, 3, 4, 5, 6]\n"
     ]
    }
   ],
   "source": [
    "#digits \n",
    "m = lambda s: [int(i) for i in s if i.isdigit()]\n",
    "a= m('abc123xyz456')\n",
    "print(a)"
   ]
  },
  {
   "cell_type": "code",
   "execution_count": 9,
   "metadata": {},
   "outputs": [
    {
     "ename": "SyntaxError",
     "evalue": "invalid syntax (2667652828.py, line 2)",
     "output_type": "error",
     "traceback": [
      "\u001b[1;36m  Cell \u001b[1;32mIn[9], line 2\u001b[1;36m\u001b[0m\n\u001b[1;33m    m= lambda\u001b[0m\n\u001b[1;37m              ^\u001b[0m\n\u001b[1;31mSyntaxError\u001b[0m\u001b[1;31m:\u001b[0m invalid syntax\n"
     ]
    }
   ],
   "source": [
    "#fibbonic\n",
    "m= lambda \n",
    "a=m(5)\n",
    "print(a)"
   ]
  },
  {
   "cell_type": "code",
   "execution_count": 12,
   "metadata": {},
   "outputs": [
    {
     "data": {
      "text/plain": [
       "{4, 6.9, 'e', 'v'}"
      ]
     },
     "execution_count": 12,
     "metadata": {},
     "output_type": "execute_result"
    }
   ],
   "source": [
    "set1={4,'v',6.9,4.0,'e'}\n",
    "set1"
   ]
  },
  {
   "cell_type": "code",
   "execution_count": 13,
   "metadata": {},
   "outputs": [
    {
     "data": {
      "text/plain": [
       "[4, 'v', 6.9, 4.0, 'e']"
      ]
     },
     "execution_count": 13,
     "metadata": {},
     "output_type": "execute_result"
    }
   ],
   "source": [
    "set1=[4,'v',6.9,4.0,'e']\n",
    "set1"
   ]
  },
  {
   "cell_type": "code",
   "execution_count": 21,
   "metadata": {},
   "outputs": [
    {
     "data": {
      "text/plain": [
       "True"
      ]
     },
     "execution_count": 21,
     "metadata": {},
     "output_type": "execute_result"
    }
   ],
   "source": [
    "{1,2,3,4}=={1,4,3,2}\n"
   ]
  },
  {
   "cell_type": "code",
   "execution_count": 23,
   "metadata": {},
   "outputs": [
    {
     "data": {
      "text/plain": [
       "False"
      ]
     },
     "execution_count": 23,
     "metadata": {},
     "output_type": "execute_result"
    }
   ],
   "source": [
    "{1,2,3,4}=={1,2,3,'4'}"
   ]
  },
  {
   "cell_type": "code",
   "execution_count": 30,
   "metadata": {},
   "outputs": [
    {
     "name": "stdout",
     "output_type": "stream",
     "text": [
      "{1, 2}\n"
     ]
    }
   ],
   "source": [
    "set1 = set()\n",
    "set1.update([1],[ 2])\n",
    "print(set1)\n"
   ]
  },
  {
   "cell_type": "code",
   "execution_count": 33,
   "metadata": {},
   "outputs": [
    {
     "name": "stdout",
     "output_type": "stream",
     "text": [
      "None\n"
     ]
    },
    {
     "data": {
      "text/plain": [
       "{0, 1, 3, 10, 52}"
      ]
     },
     "execution_count": 33,
     "metadata": {},
     "output_type": "execute_result"
    }
   ],
   "source": [
    "set1={1,5,3,0,10,52}\n",
    "print(set1.remove(5))\n",
    "set1"
   ]
  },
  {
   "cell_type": "code",
   "execution_count": 34,
   "metadata": {},
   "outputs": [
    {
     "ename": "KeyError",
     "evalue": "'5'",
     "output_type": "error",
     "traceback": [
      "\u001b[1;31m---------------------------------------------------------------------------\u001b[0m",
      "\u001b[1;31mKeyError\u001b[0m                                  Traceback (most recent call last)",
      "Cell \u001b[1;32mIn[34], line 2\u001b[0m\n\u001b[0;32m      1\u001b[0m set1\u001b[38;5;241m=\u001b[39m{\u001b[38;5;241m1\u001b[39m,\u001b[38;5;241m5\u001b[39m,\u001b[38;5;241m3\u001b[39m,\u001b[38;5;241m0\u001b[39m,\u001b[38;5;241m10\u001b[39m,\u001b[38;5;241m52\u001b[39m}\n\u001b[1;32m----> 2\u001b[0m \u001b[38;5;28mprint\u001b[39m(\u001b[43mset1\u001b[49m\u001b[38;5;241;43m.\u001b[39;49m\u001b[43mremove\u001b[49m\u001b[43m(\u001b[49m\u001b[38;5;124;43m'\u001b[39;49m\u001b[38;5;124;43m5\u001b[39;49m\u001b[38;5;124;43m'\u001b[39;49m\u001b[43m)\u001b[49m)\n\u001b[0;32m      3\u001b[0m set1\n",
      "\u001b[1;31mKeyError\u001b[0m: '5'"
     ]
    }
   ],
   "source": [
    "set1={1,5,3,0,10,52}\n",
    "print(set1.remove('5'))\n",
    "set1"
   ]
  },
  {
   "cell_type": "code",
   "execution_count": 46,
   "metadata": {},
   "outputs": [
    {
     "name": "stdout",
     "output_type": "stream",
     "text": [
      "{'b', 'c', 'a'}\n"
     ]
    },
    {
     "data": {
      "text/plain": [
       "{'a', 'b'}"
      ]
     },
     "execution_count": 46,
     "metadata": {},
     "output_type": "execute_result"
    }
   ],
   "source": [
    "set2={'b','a','t'}\n",
    "set1={'a','b','c'}\n",
    "print(set1)\n",
    "set2\n",
    "x = set1.intersection(set2)\n",
    "x"
   ]
  },
  {
   "cell_type": "code",
   "execution_count": 47,
   "metadata": {},
   "outputs": [
    {
     "ename": "TypeError",
     "evalue": "unsupported operand type(s) for +: 'set' and 'set'",
     "output_type": "error",
     "traceback": [
      "\u001b[1;31m---------------------------------------------------------------------------\u001b[0m",
      "\u001b[1;31mTypeError\u001b[0m                                 Traceback (most recent call last)",
      "Cell \u001b[1;32mIn[47], line 3\u001b[0m\n\u001b[0;32m      1\u001b[0m set1\u001b[38;5;241m=\u001b[39m{\u001b[38;5;241m1\u001b[39m,\u001b[38;5;241m0.2\u001b[39m,\u001b[38;5;241m3.4\u001b[39m,\u001b[38;5;241m9\u001b[39m}\n\u001b[0;32m      2\u001b[0m set2\u001b[38;5;241m=\u001b[39m{\u001b[38;5;241m4.2\u001b[39m,\u001b[38;5;241m6.3\u001b[39m}\n\u001b[1;32m----> 3\u001b[0m \u001b[38;5;28mprint\u001b[39m(\u001b[43mset1\u001b[49m\u001b[38;5;241;43m+\u001b[39;49m\u001b[43mset2\u001b[49m)\n",
      "\u001b[1;31mTypeError\u001b[0m: unsupported operand type(s) for +: 'set' and 'set'"
     ]
    }
   ],
   "source": [
    "set1={1,0.2,3.4,9}\n",
    "set2={4.2,6.3}\n",
    "print(set1+set2)"
   ]
  },
  {
   "cell_type": "code",
   "execution_count": 55,
   "metadata": {},
   "outputs": [],
   "source": [
    "def gen():\n",
    "    for i in range(3):\n",
    "       yield i \n",
    "       print(i)\n"
   ]
  },
  {
   "cell_type": "code",
   "execution_count": 56,
   "metadata": {},
   "outputs": [
    {
     "data": {
      "text/plain": [
       "<generator object gen at 0x000001E10F1FE330>"
      ]
     },
     "execution_count": 56,
     "metadata": {},
     "output_type": "execute_result"
    }
   ],
   "source": [
    "gen()"
   ]
  },
  {
   "cell_type": "code",
   "execution_count": null,
   "metadata": {},
   "outputs": [],
   "source": [
    "x = 10\n",
    "for i in range(x):\n",
    "    yield i"
   ]
  }
 ],
 "metadata": {
  "kernelspec": {
   "display_name": "Python 3",
   "language": "python",
   "name": "python3"
  },
  "language_info": {
   "codemirror_mode": {
    "name": "ipython",
    "version": 3
   },
   "file_extension": ".py",
   "mimetype": "text/x-python",
   "name": "python",
   "nbconvert_exporter": "python",
   "pygments_lexer": "ipython3",
   "version": "3.12.3"
  }
 },
 "nbformat": 4,
 "nbformat_minor": 2
}
