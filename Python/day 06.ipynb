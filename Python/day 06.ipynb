{
 "cells": [
  {
   "cell_type": "code",
   "execution_count": 2,
   "metadata": {},
   "outputs": [
    {
     "name": "stdout",
     "output_type": "stream",
     "text": [
      "Defaulting to user installation because normal site-packages is not writeableNote: you may need to restart the kernel to use updated packages.\n",
      "\n",
      "Requirement already satisfied: mysql-connector-python in c:\\users\\shivanika.x\\appdata\\roaming\\python\\python312\\site-packages (9.1.0)\n"
     ]
    },
    {
     "name": "stderr",
     "output_type": "stream",
     "text": [
      "\n",
      "[notice] A new release of pip is available: 24.0 -> 24.3.1\n",
      "[notice] To update, run: python.exe -m pip install --upgrade pip\n"
     ]
    }
   ],
   "source": [
    "pip install mysql-connector-python"
   ]
  },
  {
   "cell_type": "code",
   "execution_count": 3,
   "metadata": {},
   "outputs": [],
   "source": [
    "import mysql.connector\n",
    "\n",
    "mydb=mysql.connector.connect(\n",
    "    host='localhost',\n",
    "    user='root',\n",
    "    password='root@39'\n",
    ")\n",
    "mycursor=mydb.cursor() #It wil navigate to my sql workbench\n",
    "mycursor.execute('CREATE DATABASE shop') # to use any sql query's use execute\n",
    "\n"
   ]
  },
  {
   "cell_type": "code",
   "execution_count": 5,
   "metadata": {},
   "outputs": [
    {
     "name": "stdout",
     "output_type": "stream",
     "text": [
      "('car_rental_system',)\n",
      "('classicmodels',)\n",
      "('cooking',)\n",
      "('delivery_partner',)\n",
      "('information_schema',)\n",
      "('movie',)\n",
      "('mphasis',)\n",
      "('mysql',)\n",
      "('performance_schema',)\n",
      "('shop',)\n",
      "('supermarket',)\n",
      "('sys',)\n",
      "('whatscooking',)\n"
     ]
    }
   ],
   "source": [
    "mycursor.execute('SHOW DATABASES')\n",
    "for x in mycursor:\n",
    "    print(x)"
   ]
  },
  {
   "cell_type": "code",
   "execution_count": 6,
   "metadata": {},
   "outputs": [
    {
     "name": "stdout",
     "output_type": "stream",
     "text": [
      "table created\n"
     ]
    }
   ],
   "source": [
    "mydb=mysql.connector.connect(\n",
    "    host='localhost',\n",
    "    user='root',\n",
    "    password='root@39',\n",
    "    database='shop'\n",
    ")\n",
    "mycursor=mydb.cursor() #It wil navigate to my sql workbench\n",
    "mycursor.execute('CREATE TABLE customers (name VARCHAR(225),address VARCHAR(225))') # creating a table using execute\n",
    "print('table created')"
   ]
  },
  {
   "cell_type": "code",
   "execution_count": 7,
   "metadata": {},
   "outputs": [],
   "source": [
    "mycursor.execute(\"ALTER TABLE customers ADD COLUMN id INT AUTO_INCREMENT PRIMARY KEY\")"
   ]
  },
  {
   "cell_type": "code",
   "execution_count": 8,
   "metadata": {},
   "outputs": [
    {
     "name": "stdout",
     "output_type": "stream",
     "text": [
      "1 record inserted.\n"
     ]
    }
   ],
   "source": [
    "sql=\"INSERT INTO customers (name,address) VALUES (%s,%s)\"\n",
    "val=(\"John\", \"Highway 21\")\n",
    "mycursor.execute(sql,val)\n",
    "mydb.commit()\n",
    "print(mycursor.rowcount,\"record inserted.\")"
   ]
  },
  {
   "cell_type": "code",
   "execution_count": 9,
   "metadata": {},
   "outputs": [
    {
     "name": "stdout",
     "output_type": "stream",
     "text": [
      "5 was inserted.\n"
     ]
    }
   ],
   "source": [
    "sql=\"INSERT INTO customers (name,address) VALUES (%s,%s)\"\n",
    "val=[\n",
    "    ('peter','Lowstreet 4'),\n",
    "    ('Amy','Apple st 652'),\n",
    "    ('Hannah','Mountain 21'),\n",
    "    ('Michale','Valley 345'),\n",
    "    ('Betty','Green Grass 1')\n",
    "]\n",
    "\n",
    "mycursor.executemany(sql,val) # to insert more than one record use executemany\n",
    "\n",
    "mydb.commit()\n",
    "\n",
    "print(mycursor.rowcount,\"was inserted.\")"
   ]
  },
  {
   "cell_type": "code",
   "execution_count": 12,
   "metadata": {},
   "outputs": [
    {
     "name": "stdout",
     "output_type": "stream",
     "text": [
      "MySQLCursor: SELECT * FROM customers\n",
      "[('John', 'Highway 21', 1), ('peter', 'Lowstreet 4', 2), ('Amy', 'Apple st 652', 3), ('Hannah', 'Mountain 21', 4), ('Michale', 'Valley 345', 5), ('Betty', 'Green Grass 1', 6)]\n",
      "('John', 'Highway 21', 1)\n",
      "('peter', 'Lowstreet 4', 2)\n",
      "('Amy', 'Apple st 652', 3)\n",
      "('Hannah', 'Mountain 21', 4)\n",
      "('Michale', 'Valley 345', 5)\n",
      "('Betty', 'Green Grass 1', 6)\n"
     ]
    }
   ],
   "source": [
    "mycursor.execute(\"SELECT * FROM customers\")\n",
    "\n",
    "print(mycursor)\n",
    "\n",
    "\n",
    "myresult = mycursor.fetchall() #fetchall to fetch multiple rows. fetch for single row.\n",
    "print(myresult)\n",
    "for x in myresult:\n",
    "    print(x)\n"
   ]
  },
  {
   "cell_type": "code",
   "execution_count": 13,
   "metadata": {},
   "outputs": [
    {
     "name": "stdout",
     "output_type": "stream",
     "text": [
      "('Michale', 'Valley 345', 5)\n"
     ]
    }
   ],
   "source": [
    "sql=\"SELECT * FROM customers WHERE address='Valley 345'\"\n",
    "mycursor.execute(sql)\n",
    "myresult=mycursor.fetchall()\n",
    "\n",
    "for x in myresult:\n",
    "    print(x)"
   ]
  },
  {
   "cell_type": "code",
   "execution_count": 17,
   "metadata": {},
   "outputs": [
    {
     "name": "stdout",
     "output_type": "stream",
     "text": [
      "1 record(s) deleted\n"
     ]
    }
   ],
   "source": [
    "# TO DELETE A RECORD\n",
    "\n",
    "sql=\"DELETE FROM customers WHERE address='Mountain 21'\"\n",
    "\n",
    "mycursor.execute(sql)\n",
    "\n",
    "mydb.commit()\n",
    "\n",
    "print(mycursor.rowcount, \"record(s) deleted\")"
   ]
  },
  {
   "cell_type": "code",
   "execution_count": 18,
   "metadata": {},
   "outputs": [
    {
     "name": "stdout",
     "output_type": "stream",
     "text": [
      "1 record(s) affected\n"
     ]
    }
   ],
   "source": [
    "#UPDATE\n",
    "\n",
    "sql=\"UPdate customers SET address='Canyon 123' WHERE address='Highway 21'\"\n",
    "\n",
    "mycursor.execute(sql)\n",
    "\n",
    "mydb.commit()\n",
    "\n",
    "print(mycursor.rowcount, \"record(s) affected\")\n"
   ]
  },
  {
   "cell_type": "code",
   "execution_count": 52,
   "metadata": {},
   "outputs": [
    {
     "name": "stdout",
     "output_type": "stream",
     "text": [
      "1 record(s) affected\n"
     ]
    }
   ],
   "source": [
    "import mysql.connector\n",
    "class workbench:\n",
    "    def __init__(self):\n",
    "            self.mydb=mysql.connector.connect(\n",
    "            host='localhost',\n",
    "            user='root',\n",
    "            password='root@39',\n",
    "            database='sql_workbench'\n",
    "\n",
    "        )\n",
    "            self.mycursor=self.mydb.cursor() #It wil navigate to my sql workbench\n",
    "    def Table(self):\n",
    "        self.mycursor.execute('CREATE TABLE Students (id INT AUTO_INCREMENT PRIMARY KEY,Student_name VARCHAR(225),address VARCHAR(225))') # creating a table using execute\n",
    "        print('table created')\n",
    "    def Insert(self,val):\n",
    "        sql=\"INSERT INTO Students (Student_name,address) VALUES (%s,%s)\"\n",
    "        # val=[\n",
    "        #         ('peter','Lowstreet 4'),\n",
    "        #         ('Amy','Apple st 652'),\n",
    "        #         ('Hannah','Mountain 21'),\n",
    "        #         ('Michale','Valley 345'),\n",
    "        #         ('Betty','Green Grass 1')\n",
    "        #     ]\n",
    "        self.mycursor.execute(sql,val) # to insert more than one record use executemany\n",
    "        self.mydb.commit()\n",
    "        print(self.mycursor.rowcount,\"was inserted.\")\n",
    "\n",
    "    def Update(self,a,b):\n",
    "         sql=f\"UPdate Students SET address='{a}' WHERE address='{b}'\"\n",
    "\n",
    "         self.mycursor.execute(sql)\n",
    "         self.mydb.commit()\n",
    "         print(self.mycursor.rowcount, \"record(s) affected\")\n",
    "    \n",
    "    def Delete(self,val):\n",
    "        sql=f\"DELETE FROM Students WHERE address='{val}'\"\n",
    "        self.mycursor.execute(sql)\n",
    "        self.mydb.commit()\n",
    "        print(self.mycursor.rowcount, \"record(s) deleted\")\n",
    "                \n",
    "obj=workbench()\n",
    "#obj.Table()\n",
    "#obj.Insert(('peter','Lowstreet 4')) \n",
    "obj.Update(\"bigstreet\",\"Valley 345\")  \n",
    "#obj.Delete((\"Lowstreet 4\"))     "
   ]
  },
  {
   "cell_type": "code",
   "execution_count": 15,
   "metadata": {},
   "outputs": [
    {
     "name": "stdout",
     "output_type": "stream",
     "text": [
      "connected\n",
      "1950.00\n",
      "278.571429\n",
      "7\n"
     ]
    }
   ],
   "source": [
    "import mysql.connector\n",
    "class workbench:\n",
    "    def __init__(self):\n",
    "            self.mydb=mysql.connector.connect(\n",
    "            host='localhost',\n",
    "            user='root',\n",
    "            password='root@39',\n",
    "            database='supermarket'\n",
    "\n",
    "        )\n",
    "            self.mycursor=self.mydb.cursor()\n",
    "            print(\"connected\")\n",
    "\n",
    "    def aggtable(self,val):\n",
    "        sql=f\"select sum({val}) from product\"\n",
    "        self.mycursor.execute(sql)\n",
    "        res=self.mycursor.fetchone()\n",
    "        print(res[0])\n",
    "\n",
    "    def avgtable(self,val):\n",
    "        sql=f\"select avg({val}) from product\"\n",
    "        self.mycursor.execute(sql)\n",
    "        res=self.mycursor.fetchone()\n",
    "        print(res[0])\n",
    "    \n",
    "    def counttable(self,val):\n",
    "        sql=f\"select count({val}) from product\"\n",
    "        self.mycursor.execute(sql)\n",
    "        res=self.mycursor.fetchone()\n",
    "        print(res[0])\n",
    "\n",
    "db=workbench()\n",
    "db.aggtable('UnitPrice')\n",
    "db.avgtable('UnitPrice')\n",
    "db.counttable('UnitPrice')"
   ]
  },
  {
   "cell_type": "code",
   "execution_count": 16,
   "metadata": {},
   "outputs": [
    {
     "name": "stdout",
     "output_type": "stream",
     "text": [
      "Defaulting to user installation because normal site-packages is not writeable\n",
      "Collecting pymongo\n",
      "  Downloading pymongo-4.10.1-cp312-cp312-win_amd64.whl.metadata (22 kB)\n",
      "Collecting dnspython<3.0.0,>=1.16.0 (from pymongo)\n",
      "  Downloading dnspython-2.7.0-py3-none-any.whl.metadata (5.8 kB)\n",
      "Downloading pymongo-4.10.1-cp312-cp312-win_amd64.whl (926 kB)\n",
      "   ---------------------------------------- 0.0/926.7 kB ? eta -:--:--\n",
      "   --------- ------------------------------ 225.3/926.7 kB 6.9 MB/s eta 0:00:01\n",
      "   ---------------------- ----------------- 532.5/926.7 kB 6.7 MB/s eta 0:00:01\n",
      "   ------------------------------------- -- 870.4/926.7 kB 6.9 MB/s eta 0:00:01\n",
      "   ---------------------------------------  921.6/926.7 kB 7.3 MB/s eta 0:00:01\n",
      "   ---------------------------------------  921.6/926.7 kB 7.3 MB/s eta 0:00:01\n",
      "   ---------------------------------------- 926.7/926.7 kB 4.2 MB/s eta 0:00:00\n",
      "Downloading dnspython-2.7.0-py3-none-any.whl (313 kB)\n",
      "   ---------------------------------------- 0.0/313.6 kB ? eta -:--:--\n",
      "   ---------------------------------------  307.2/313.6 kB 9.6 MB/s eta 0:00:01\n",
      "   ---------------------------------------- 313.6/313.6 kB 3.9 MB/s eta 0:00:00\n",
      "Installing collected packages: dnspython, pymongo\n",
      "Successfully installed dnspython-2.7.0 pymongo-4.10.1\n",
      "Note: you may need to restart the kernel to use updated packages.\n"
     ]
    },
    {
     "name": "stderr",
     "output_type": "stream",
     "text": [
      "\n",
      "[notice] A new release of pip is available: 24.0 -> 24.3.1\n",
      "[notice] To update, run: python.exe -m pip install --upgrade pip\n"
     ]
    }
   ],
   "source": [
    "pip install pymongo"
   ]
  },
  {
   "cell_type": "code",
   "execution_count": null,
   "metadata": {},
   "outputs": [
    {
     "name": "stdout",
     "output_type": "stream",
     "text": [
      "{'_id': ObjectId('67779c48c744306609d15431'), 'name': 'lisa', 'age': 30, 'interests': ['books', 'movies']}\n",
      "{'_id': ObjectId('67779c48c744306609d15432'), 'name': 'john', 'age': 60}\n",
      "{'_id': ObjectId('67779c48c744306609d15434'), 'name': 'lisa', 'age': 23, 'interests': ['books', 'movies']}\n",
      "{'_id': ObjectId('67779d2bc744306609d15437'), 'name': 'lisa', 'age': 30, 'interests': ['books', 'movies']}\n",
      "{'_id': ObjectId('67779d2bc744306609d15438'), 'name': 'john', 'age': 60}\n",
      "{'_id': ObjectId('67779d2bc744306609d1543a'), 'name': 'lisa', 'age': 23, 'interests': ['books', 'movies']}\n",
      "{'_id': ObjectId('67779d2bc744306609d1543b'), 'name': 'mike', 'age': 100}\n",
      "{'_id': ObjectId('67779dbcc744306609d1543d'), 'name': 'max', 'age': 35}\n",
      "{'_id': 'mike', 'averageAge': 100.0}\n",
      "{'_id': 'john', 'averageAge': 60.0}\n",
      "{'_id': 'max', 'averageAge': 35.0}\n",
      "{'_id': 'lisa', 'averageAge': 26.5}\n"
     ]
    }
   ],
   "source": [
    "from pymongo import MongoClient\n",
    "from bson.objectid import ObjectId\n",
    "from bson import SON\n",
    "\n",
    "client=MongoClient('localhost',27017)\n",
    "\n",
    "#Creating new database\n",
    "db=client.newdb\n",
    "\n",
    "#creating Collection (table)\n",
    "people=db.people\n",
    "\n",
    "#inseting records\n",
    "# people.insert_one({'name':'john','age':20})\n",
    "# people.insert_one({'name':'lisa','age':30,'interests':['books','movies']})\n",
    "# people.insert_one({'name':'john','age':60})\n",
    "# people.insert_one({'name':'mike','age':20})\n",
    "# people.insert_one({'name':'lisa','age':23,'interests':['books','movies']})\n",
    "\n",
    "\n",
    "for person in people.find():\n",
    "    print(person)\n",
    "\n",
    "#catching the id generator in mongodb for mike\n",
    "#mike_id=people.insert_one({'name':'max','age':35}).inserted_id\n",
    "#print(mike_id)\n",
    "\n",
    "# print([p for p in people.find({'_id':ObjectId('67779dbcc744306609d1543d')})])\n",
    "# print('---------------------------------------------------')\n",
    "#print([p for p in people.find({'age':{'$lt':30}})]) #$lt-less than\n",
    "\n",
    "#count\n",
    "# print('LISA COUNT')\n",
    "# print(people.count_documents({'name':'lisa'}))\n",
    "\n",
    "#update\n",
    "#people.update_one({'_id':ObjectId('67779d2bc744306609d1543b')},{'$set':{'age':100}})\n",
    "\n",
    "#delete\n",
    "#people.delete_many({'age':{'$lt':23}})\n",
    "\n",
    "#delete\n",
    "#people.delete_many({'age':{'$lt':25}})\n",
    "\n",
    "#group by and aggregate\n",
    "pipeline=[\n",
    "    {\n",
    "        '$group':{\n",
    "            '_id':'$name',\n",
    "            'averageAge':{'$avg':'$age'}\n",
    "        }\n",
    "    },\n",
    "    {\n",
    "        '$sort':SON([('averageAge',-1)]) # 1 is acending, -1 is descending\n",
    "    }\n",
    "\n",
    "]\n",
    "results=people.aggregate(pipeline)\n",
    "for result in results:\n",
    "    print(result)\n",
    "\n",
    "\n"
   ]
  },
  {
   "cell_type": "code",
   "execution_count": 34,
   "metadata": {},
   "outputs": [],
   "source": [
    "from pymongo import MongoClient\n",
    "\n",
    "#Connect to MONGODB\n",
    "\n",
    "cilent=MongoClient('mongodb://localhost:27017')\n",
    "#specify the database and collections\n",
    "db=client['newdb']\n",
    "collection=db['people']\n",
    "\n"
   ]
  },
  {
   "cell_type": "code",
   "execution_count": 36,
   "metadata": {},
   "outputs": [
    {
     "name": "stdout",
     "output_type": "stream",
     "text": [
      "Inserted document ID:6777a5f1c744306609d1544c\n"
     ]
    }
   ],
   "source": [
    "#Insert a single document\n",
    "document={\n",
    "    \"name\":\"Sanjana\",\n",
    "    \"age\":50,\n",
    "    \"city\":\"New york\"\n",
    "}\n",
    "\n",
    "result=collection.insert_one(document)\n",
    "print(f\"Inserted document ID:{result.inserted_id}\")"
   ]
  },
  {
   "cell_type": "code",
   "execution_count": 39,
   "metadata": {},
   "outputs": [
    {
     "name": "stdout",
     "output_type": "stream",
     "text": [
      "Inserted document IDs:[ObjectId('6777a69ec744306609d1544d'), ObjectId('6777a69ec744306609d1544e')]\n"
     ]
    }
   ],
   "source": [
    "#Insert a multiple documents\n",
    "documents=[{\n",
    "    \"name\":\"Shivani\",\n",
    "    \"age\":16,\n",
    "    \"city\":\"Paris\"\n",
    "},{\n",
    "    \"name\":\"Haritha\",\n",
    "    \"age\":40,\n",
    "    \"city\":\"chicago\"\n",
    "}]\n",
    "\n",
    "result=collection.insert_many(documents)\n",
    "print(f\"Inserted document IDs:{result.inserted_ids}\")"
   ]
  },
  {
   "cell_type": "code",
   "execution_count": 43,
   "metadata": {},
   "outputs": [
    {
     "name": "stdout",
     "output_type": "stream",
     "text": [
      "{'_id': ObjectId('6777a69ec744306609d1544d'), 'name': 'Shivani', 'age': 16, 'city': 'Paris'}\n"
     ]
    }
   ],
   "source": [
    "# find one document with specific criteria\n",
    "document = collection.find_one({\"name\":\"Shivani\"})\n",
    "print(document)"
   ]
  },
  {
   "cell_type": "code",
   "execution_count": 45,
   "metadata": {},
   "outputs": [
    {
     "name": "stdout",
     "output_type": "stream",
     "text": [
      "{'_id': ObjectId('67779c48c744306609d15431'), 'name': 'lisa', 'age': 30, 'interests': ['books', 'movies']}\n",
      "{'_id': ObjectId('67779c48c744306609d15432'), 'name': 'john', 'age': 60}\n",
      "{'_id': ObjectId('67779c48c744306609d15434'), 'name': 'lisa', 'age': 23, 'interests': ['books', 'movies']}\n",
      "{'_id': ObjectId('67779d2bc744306609d15437'), 'name': 'lisa', 'age': 30, 'interests': ['books', 'movies']}\n",
      "{'_id': ObjectId('67779d2bc744306609d15438'), 'name': 'john', 'age': 60}\n",
      "{'_id': ObjectId('67779d2bc744306609d1543a'), 'name': 'lisa', 'age': 23, 'interests': ['books', 'movies']}\n",
      "{'_id': ObjectId('67779d2bc744306609d1543b'), 'name': 'mike', 'age': 100}\n",
      "{'_id': ObjectId('67779dbcc744306609d1543d'), 'name': 'max', 'age': 35}\n",
      "{'_id': ObjectId('6777a5ebc744306609d1544b'), 'name': 'Sanjana', 'age': 50, 'city': 'New york'}\n",
      "{'_id': ObjectId('6777a5f1c744306609d1544c'), 'name': 'Sanjana', 'age': 50, 'city': 'New york'}\n",
      "{'_id': ObjectId('6777a69ec744306609d1544d'), 'name': 'Shivani', 'age': 16, 'city': 'Paris'}\n",
      "{'_id': ObjectId('6777a69ec744306609d1544e'), 'name': 'Haritha', 'age': 40, 'city': 'chicago'}\n"
     ]
    }
   ],
   "source": [
    "#find all documents in the collection\n",
    "\n",
    "documents = collection.find()\n",
    "for doc in documents:\n",
    "    print(doc)"
   ]
  },
  {
   "cell_type": "code",
   "execution_count": 47,
   "metadata": {},
   "outputs": [
    {
     "name": "stdout",
     "output_type": "stream",
     "text": [
      "{'_id': ObjectId('67779c48c744306609d15432'), 'name': 'john', 'age': 60}\n",
      "{'_id': ObjectId('67779d2bc744306609d15438'), 'name': 'john', 'age': 60}\n",
      "{'_id': ObjectId('67779d2bc744306609d1543b'), 'name': 'mike', 'age': 100}\n",
      "{'_id': ObjectId('67779dbcc744306609d1543d'), 'name': 'max', 'age': 35}\n",
      "{'_id': ObjectId('6777a5ebc744306609d1544b'), 'name': 'Sanjana', 'age': 50, 'city': 'New york'}\n",
      "{'_id': ObjectId('6777a5f1c744306609d1544c'), 'name': 'Sanjana', 'age': 50, 'city': 'New york'}\n",
      "{'_id': ObjectId('6777a69ec744306609d1544e'), 'name': 'Haritha', 'age': 40, 'city': 'chicago'}\n"
     ]
    }
   ],
   "source": [
    "#Find all documents Where age is greater than 30\n",
    "\n",
    "pipeline=[\n",
    "    {\"$match\":{\"age\":{\"$gt\":30}}} #$gt - greater\n",
    "]\n",
    "\n",
    "result=collection.aggregate(pipeline)\n",
    "for doc in result:\n",
    "    print(doc)"
   ]
  },
  {
   "cell_type": "code",
   "execution_count": 49,
   "metadata": {},
   "outputs": [
    {
     "name": "stdout",
     "output_type": "stream",
     "text": [
      "{'_id': 'Paris', 'total_age': 16}\n",
      "{'_id': 'chicago', 'total_age': 40}\n",
      "{'_id': 'New york', 'total_age': 100}\n",
      "{'_id': None, 'total_age': 361}\n"
     ]
    }
   ],
   "source": [
    "#group\n",
    "#group by city and calculate the total age for each city\n",
    "pipeline = [\n",
    "    {\"$group\": {\"_id\": \"$city\", \"total_age\": {\"$sum\": \"$age\"}}}\n",
    "]\n",
    "result = collection.aggregate(pipeline)\n",
    "for doc in result:\n",
    "    print(doc)"
   ]
  },
  {
   "cell_type": "code",
   "execution_count": 51,
   "metadata": {},
   "outputs": [
    {
     "name": "stdout",
     "output_type": "stream",
     "text": [
      "{'_id': None, 'count': 8}\n",
      "{'_id': 'Paris', 'count': 1}\n",
      "{'_id': 'chicago', 'count': 1}\n",
      "{'_id': 'New york', 'count': 2}\n"
     ]
    }
   ],
   "source": [
    "#count the number of people in each city\n",
    "pipeline = [\n",
    "    {\"$group\": {\"_id\": \"$city\", \"count\": {\"$sum\": 1}}} # $id here id is like to select the cloumn so here we are selecting the city column\n",
    "]\n",
    "result = collection.aggregate(pipeline)\n",
    "for doc in result:\n",
    "    print(doc)"
   ]
  },
  {
   "cell_type": "code",
   "execution_count": 53,
   "metadata": {},
   "outputs": [
    {
     "name": "stdout",
     "output_type": "stream",
     "text": [
      "{'_id': None, 'total_age': 361}\n",
      "{'_id': 'New york', 'total_age': 100}\n",
      "{'_id': 'chicago', 'total_age': 40}\n",
      "{'_id': 'Paris', 'total_age': 16}\n"
     ]
    }
   ],
   "source": [
    "#with two query group and sort\n",
    "pipeline = [\n",
    "    {\"$group\": {\"_id\": \"$city\", \"total_age\":{\"$sum\": \"$age\"}}}, # $id here id is like to select the cloumn so here we are selecting the city column\n",
    "    {\"$sort\":{\"total_age\":-1}}# descending order (-1)\n",
    "]\n",
    "result = collection.aggregate(pipeline)\n",
    "for doc in result:\n",
    "    print(doc)"
   ]
  },
  {
   "cell_type": "code",
   "execution_count": 61,
   "metadata": {},
   "outputs": [
    {
     "name": "stdout",
     "output_type": "stream",
     "text": [
      "{'name': 'lisa'}\n",
      "{'name': 'john'}\n",
      "{'name': 'lisa'}\n",
      "{'name': 'lisa'}\n",
      "{'name': 'john'}\n",
      "{'name': 'lisa'}\n",
      "{'name': 'mike'}\n",
      "{'name': 'max'}\n",
      "{'name': 'Sanjana', 'city': 'New york'}\n",
      "{'name': 'Sanjana', 'city': 'New york'}\n",
      "{'name': 'Shivani', 'city': 'Paris'}\n",
      "{'name': 'Haritha', 'city': 'chicago'}\n"
     ]
    }
   ],
   "source": [
    "\n",
    "pipeline = [\n",
    "    {\"$project\":{\"name\":1,\"city\":1,\"_id\":0}} #Project is to select the column and it will display the column and you can't give 0 for columns but for Id alone we can give 0.\n",
    "]\n",
    "result = collection.aggregate(pipeline)\n",
    "for doc in result:\n",
    "    print(doc)"
   ]
  },
  {
   "cell_type": "code",
   "execution_count": 66,
   "metadata": {},
   "outputs": [
    {
     "name": "stdout",
     "output_type": "stream",
     "text": [
      "{'_id': ObjectId('67779c48c744306609d15431'), 'name': 'lisa', 'age': 30, 'interests': ['books', 'movies']}\n",
      "{'_id': ObjectId('67779c48c744306609d15432'), 'name': 'john', 'age': 60}\n",
      "{'_id': ObjectId('67779c48c744306609d15434'), 'name': 'lisa', 'age': 23, 'interests': ['books', 'movies']}\n"
     ]
    }
   ],
   "source": [
    "# get the first 3 documents with a specified limit\n",
    "pipeline=[\n",
    "    {\"$limit\":3}\n",
    "]\n",
    "result = collection.aggregate(pipeline)\n",
    "for doc in result:\n",
    "    print(doc)"
   ]
  },
  {
   "cell_type": "code",
   "execution_count": 68,
   "metadata": {},
   "outputs": [
    {
     "name": "stdout",
     "output_type": "stream",
     "text": [
      "{'_id': ObjectId('67779c48c744306609d15431'), 'name': 'lisa', 'age': 30, 'interests': ['books', 'movies'], 'is_adult': True}\n",
      "{'_id': ObjectId('67779c48c744306609d15432'), 'name': 'john', 'age': 60, 'is_adult': True}\n",
      "{'_id': ObjectId('67779c48c744306609d15434'), 'name': 'lisa', 'age': 23, 'interests': ['books', 'movies'], 'is_adult': True}\n",
      "{'_id': ObjectId('67779d2bc744306609d15437'), 'name': 'lisa', 'age': 30, 'interests': ['books', 'movies'], 'is_adult': True}\n",
      "{'_id': ObjectId('67779d2bc744306609d15438'), 'name': 'john', 'age': 60, 'is_adult': True}\n",
      "{'_id': ObjectId('67779d2bc744306609d1543a'), 'name': 'lisa', 'age': 23, 'interests': ['books', 'movies'], 'is_adult': True}\n",
      "{'_id': ObjectId('67779d2bc744306609d1543b'), 'name': 'mike', 'age': 100, 'is_adult': True}\n",
      "{'_id': ObjectId('67779dbcc744306609d1543d'), 'name': 'max', 'age': 35, 'is_adult': True}\n",
      "{'_id': ObjectId('6777a5ebc744306609d1544b'), 'name': 'Sanjana', 'age': 50, 'city': 'New york', 'is_adult': True}\n",
      "{'_id': ObjectId('6777a5f1c744306609d1544c'), 'name': 'Sanjana', 'age': 50, 'city': 'New york', 'is_adult': True}\n",
      "{'_id': ObjectId('6777a69ec744306609d1544d'), 'name': 'Shivani', 'age': 16, 'city': 'Paris', 'is_adult': False}\n",
      "{'_id': ObjectId('6777a69ec744306609d1544e'), 'name': 'Haritha', 'age': 40, 'city': 'chicago', 'is_adult': True}\n"
     ]
    }
   ],
   "source": [
    "pipeline=[\n",
    "    {\"$addFields\":{\"is_adult\":{\"$gte\":[\"$age\",18]}}}\n",
    "]\n",
    "result = collection.aggregate(pipeline)\n",
    "for doc in result:\n",
    "    print(doc)"
   ]
  },
  {
   "cell_type": "code",
   "execution_count": 71,
   "metadata": {},
   "outputs": [
    {
     "name": "stdout",
     "output_type": "stream",
     "text": [
      "Error: Duplicate key detected.\n"
     ]
    }
   ],
   "source": [
    "#Handling MongoDB Errors in Python \n",
    "\n",
    "from pymongo.errors import (\n",
    "    ServerSelectionTimeoutError, DuplicateKeyError, WriteError, OperationFailure,\n",
    "    NetworkTimeout, BulkWriteError\n",
    ")\n",
    "\n",
    "def handle_mongo_operation(operation, *args, **kwargs):\n",
    "    try:\n",
    "        return operation(*args, **kwargs)\n",
    "    except ServerSelectionTimeoutError:\n",
    "        print(\"Error: Could not connect to MongoDB server.\")\n",
    "    except DuplicateKeyError:\n",
    "        print(\"Error: Duplicate key detected.\")\n",
    "    except WriteError:\n",
    "        print(\"Error: Issue with the write operation.\")\n",
    "    except OperationFailure:\n",
    "        print(\"Error: Operation failed due to invalid syntax or other issues.\")\n",
    "    except NetworkTimeout:\n",
    "        print(\"Error: Network timeout occurred.\")\n",
    "    except BulkWriteError as err:\n",
    "        print(\"Error: Bulk write operation failed.\")\n",
    "        print(\"Details:\", err.details)\n",
    "    except Exception as err:\n",
    "        print(\"An unexpected error occurred:\", err)\n",
    "\n",
    "# Example usage:\n",
    "handle_mongo_operation(collection.insert_one, {\"_id\": 1, \"name\": \"sanjana\"})"
   ]
  },
  {
   "cell_type": "code",
   "execution_count": 92,
   "metadata": {},
   "outputs": [
    {
     "name": "stdout",
     "output_type": "stream",
     "text": [
      "{'_id': 'New york', 'count': 2}\n",
      "{'_id': 'chicago', 'count': 1}\n",
      "{'_id': None, 'count': 7}\n"
     ]
    }
   ],
   "source": [
    "from pymongo import MongoClient\n",
    "\n",
    "class work:\n",
    "    def __init__(self):\n",
    "       self.client=MongoClient('mongodb://localhost:27017')\n",
    "       #specify the database and collections\n",
    "       self.db=self.client['newdb']\n",
    "       self.collection=self.db['people']\n",
    "    def Insert(self,val):\n",
    "        people.insert_one(val)\n",
    "        print(\"was inserted.\")\n",
    "    def Catch_Id(self,val):\n",
    "        #catching the id generator in mongodb for mike\n",
    "        mike_id=people.insert_one(val).inserted_id\n",
    "        print(mike_id)\n",
    "    def Update(self,a,b):\n",
    "        people.update_one({'_id':ObjectId(a)},{'$set':b})\n",
    "    def delete(self,val):\n",
    "        people.delete_many({'age':{'$lt':val}})\n",
    "    def Total_age(self):\n",
    "        pipeline = [\n",
    "            {\"$group\": {\"_id\": \"$city\", \"total_age\": {\"$sum\": \"$age\"}}}\n",
    "        ]\n",
    "        result = collection.aggregate(pipeline)\n",
    "        for doc in result:\n",
    "            print(doc)\n",
    "    def limit(self,val):\n",
    "        pipeline=[\n",
    "        {\"$limit\":val}\n",
    "        ]\n",
    "        result = collection.aggregate(pipeline)\n",
    "        for doc in result:\n",
    "            print(doc)\n",
    "    def count(self):\n",
    "        pipeline = [\n",
    "        {\"$group\": {\"_id\": \"$city\", \"count\": {\"$sum\": 1}}} # $id here id is like to select the cloumn so here we are selecting the city column\n",
    "        ]\n",
    "        result = collection.aggregate(pipeline)\n",
    "        for doc in result:\n",
    "            print(doc)\n",
    "\n",
    "\n",
    "                \n",
    "obj=work()\n",
    "#obj.Insert({'name':'MARIA','age':20})\n",
    "#obj.Catch_Id({'name':'max','age':35})\n",
    "#obj.Update('67779d2bc744306609d1543b',{'age':10})\n",
    "#obj.delete(30)\n",
    "#obj.Total_age()\n",
    "#obj.limit(5)\n",
    "obj.count()\n"
   ]
  },
  {
   "cell_type": "code",
   "execution_count": 96,
   "metadata": {},
   "outputs": [
    {
     "name": "stdout",
     "output_type": "stream",
     "text": [
      "['admin', 'config', 'local', 'newdb']\n"
     ]
    }
   ],
   "source": [
    "from pymongo import MongoClient\n",
    "\n",
    "#Connect to MONGODB\n",
    "\n",
    "cilent=MongoClient('mongodb://localhost:27017')\n",
    "#specify the database and collections\n",
    "db=client['newdb']\n",
    "collection=db['people']\n",
    "\n",
    "print(client.list_database_names())\n"
   ]
  },
  {
   "cell_type": "code",
   "execution_count": 98,
   "metadata": {},
   "outputs": [
    {
     "name": "stdout",
     "output_type": "stream",
     "text": [
      "The database exists.\n"
     ]
    }
   ],
   "source": [
    "dblist = client.list_database_names()\n",
    "if \"newdb\" in dblist:\n",
    "  print(\"The database exists.\")"
   ]
  },
  {
   "cell_type": "code",
   "execution_count": 110,
   "metadata": {},
   "outputs": [
    {
     "name": "stdout",
     "output_type": "stream",
     "text": [
      "[10, 20, 30, 40]\n",
      "[10, 20, 30, 40]\n"
     ]
    }
   ],
   "source": [
    "a = [10, 20]\n",
    "b = a\n",
    "b += [30, 40]\n",
    "print(a)\n",
    "print(b)"
   ]
  }
 ],
 "metadata": {
  "kernelspec": {
   "display_name": "Python 3",
   "language": "python",
   "name": "python3"
  },
  "language_info": {
   "codemirror_mode": {
    "name": "ipython",
    "version": 3
   },
   "file_extension": ".py",
   "mimetype": "text/x-python",
   "name": "python",
   "nbconvert_exporter": "python",
   "pygments_lexer": "ipython3",
   "version": "3.12.3"
  }
 },
 "nbformat": 4,
 "nbformat_minor": 2
}
