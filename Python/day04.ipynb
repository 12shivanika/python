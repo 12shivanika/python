{
 "cells": [
  {
   "cell_type": "code",
   "execution_count": 6,
   "metadata": {},
   "outputs": [
    {
     "data": {
      "text/plain": [
       "['#Goodmorning #everyone. www.google.com,\\n',\n",
       " '#Learn #python www.w3schools.com/test Good morning everyone. www.google.com,\\n']"
      ]
     },
     "execution_count": 6,
     "metadata": {},
     "output_type": "execute_result"
    }
   ],
   "source": [
    "with  open('example.txt', 'r') as f:\n",
    "   x= f.readlines()\n",
    "x\n"
   ]
  },
  {
   "cell_type": "code",
   "execution_count": 4,
   "metadata": {},
   "outputs": [
    {
     "name": "stdout",
     "output_type": "stream",
     "text": [
      "['#Goodmorning #everyone. www.google.com,\\n', '#Learn #python www.w3schools.com/test Good morning everyone. www.google.com,\\n']\n"
     ]
    }
   ],
   "source": [
    "with open('example.txt','r') as f:\n",
    "    f_contents=f.readlines()\n",
    "    print(f_contents)"
   ]
  },
  {
   "cell_type": "code",
   "execution_count": 8,
   "metadata": {},
   "outputs": [
    {
     "name": "stdout",
     "output_type": "stream",
     "text": [
      "True\n"
     ]
    }
   ],
   "source": [
    "with open('example.txt','w') as f:\n",
    "    pass\n",
    "print(f.closed)"
   ]
  },
  {
   "cell_type": "code",
   "execution_count": 9,
   "metadata": {},
   "outputs": [],
   "source": [
    "#TO WRITE If you give write it will over write\n",
    "with open(\"example.txt\",'w') as file:\n",
    "    para= input(\"Enter: \")\n",
    "    file.write(para)\n"
   ]
  },
  {
   "cell_type": "code",
   "execution_count": 10,
   "metadata": {},
   "outputs": [],
   "source": [
    "#TO WRITE \n",
    "with open(\"example.txt\",'a') as file:\n",
    "    para= input(\"Enter: \")\n",
    "    file.write(para)"
   ]
  },
  {
   "cell_type": "code",
   "execution_count": 11,
   "metadata": {},
   "outputs": [
    {
     "name": "stdout",
     "output_type": "stream",
     "text": [
      "pyyyyyyyyyyyyyyyyyyyyyyyappend\n"
     ]
    }
   ],
   "source": [
    "with open('example.txt','r') as file:\n",
    "    f_contents=file.read()\n",
    "    print(f_contents)"
   ]
  },
  {
   "cell_type": "code",
   "execution_count": 12,
   "metadata": {},
   "outputs": [
    {
     "name": "stdout",
     "output_type": "stream",
     "text": [
      " Log entry has been written to the log file.\n"
     ]
    }
   ],
   "source": [
    "import datetime\n",
    "\n",
    "# get current date and time\n",
    "now=datetime.datetime.now()\n",
    "\n",
    "log_msg=f\"Log entry created at {now}: This  is a log message.\"\n",
    "\n",
    "with open(\"example.txt\",'a') as file:\n",
    "    file.write(log_msg+\"\\n\")\n",
    "\n",
    "print(\" Log entry has been written to the log file.\")\n",
    "\n"
   ]
  },
  {
   "cell_type": "code",
   "execution_count": 21,
   "metadata": {},
   "outputs": [
    {
     "name": "stdout",
     "output_type": "stream",
     "text": [
      "import datetime\n",
      "\n",
      "# get current date and time\n",
      "now=datetime.datetime.now()\n",
      "\n",
      "log_msg=f\"Log entry created at {now}: This  is a log message.\"\n",
      "\n",
      "with open(\"example.txt\",'a') as file:\n",
      "    file.write(log_msg+\"\\n\")\n",
      "\n",
      "print(\" Log entry has been written to the log file.\")\n"
     ]
    }
   ],
   "source": [
    "with open('demo.txt','r') as file:\n",
    "    f_contents=file.read()\n",
    "    print(f_contents)\n",
    "#TO WRITE \n",
    "with open(\"example1.txt\",'a') as file:\n",
    "    file.write(f_contents)"
   ]
  },
  {
   "cell_type": "code",
   "execution_count": 13,
   "metadata": {},
   "outputs": [],
   "source": [
    "with open(\"example.txt\",'w') as f:\n",
    "    f.write(\"test\")\n",
    "  \n"
   ]
  },
  {
   "cell_type": "code",
   "execution_count": 19,
   "metadata": {},
   "outputs": [
    {
     "name": "stdout",
     "output_type": "stream",
     "text": [
      "\n",
      "\n"
     ]
    }
   ],
   "source": [
    "with open(\"example.txt\",'r') as f:\n",
    "    print(f.read())\n",
    "    f.seek(5)\n",
    "    print(f.read())\n"
   ]
  },
  {
   "cell_type": "code",
   "execution_count": 20,
   "metadata": {},
   "outputs": [
    {
     "ename": "TypeError",
     "evalue": "'<' not supported between instances of 'str' and 'int'",
     "output_type": "error",
     "traceback": [
      "\u001b[1;31m---------------------------------------------------------------------------\u001b[0m",
      "\u001b[1;31mTypeError\u001b[0m                                 Traceback (most recent call last)",
      "Cell \u001b[1;32mIn[20], line 2\u001b[0m\n\u001b[0;32m      1\u001b[0m \u001b[38;5;28;01mwith\u001b[39;00m \u001b[38;5;28mopen\u001b[39m(\u001b[38;5;124m\"\u001b[39m\u001b[38;5;124mexample.txt\u001b[39m\u001b[38;5;124m\"\u001b[39m,\u001b[38;5;124m'\u001b[39m\u001b[38;5;124mw\u001b[39m\u001b[38;5;124m'\u001b[39m) \u001b[38;5;28;01mas\u001b[39;00m f:\n\u001b[1;32m----> 2\u001b[0m      \u001b[43mf\u001b[49m\u001b[38;5;241;43m.\u001b[39;49m\u001b[43mseek\u001b[49m\u001b[43m(\u001b[49m\u001b[38;5;124;43m\"\u001b[39;49m\u001b[38;5;124;43mS\u001b[39;49m\u001b[38;5;124;43m\"\u001b[39;49m\u001b[43m)\u001b[49m\n",
      "\u001b[1;31mTypeError\u001b[0m: '<' not supported between instances of 'str' and 'int'"
     ]
    }
   ],
   "source": [
    "with open(\"example.txt\",'w') as f:\n",
    "     f.seek(\"S\")\n"
   ]
  },
  {
   "cell_type": "code",
   "execution_count": 68,
   "metadata": {},
   "outputs": [
    {
     "name": "stdout",
     "output_type": "stream",
     "text": [
      "test Good morning everyone\n",
      "test Good morning everyone\n",
      "54\n",
      "27\n",
      "\n",
      "test Good morning everyone\n"
     ]
    }
   ],
   "source": [
    "with open(\"example.txt\",'r') as f:\n",
    "     print(f.read())\n",
    "     print(f.tell())\n",
    "     print(f.seek(27))\n",
    "     print(f.read())"
   ]
  },
  {
   "cell_type": "code",
   "execution_count": 70,
   "metadata": {},
   "outputs": [],
   "source": [
    "import json\n",
    "\n",
    "with open('text.json','w') as fp:\n",
    "    data={}\n",
    "    data['Name'] = 'Shivanika'\n",
    "    json.dump(data,fp)"
   ]
  },
  {
   "cell_type": "code",
   "execution_count": 76,
   "metadata": {},
   "outputs": [],
   "source": [
    "import json\n",
    "\n",
    "dictionary={\n",
    "    \"Name\":\"Shivanika\",\n",
    "    \"RollNO\":144,\n",
    "    \"cgpa\":8.6,\n",
    "    \"PhoneNumber\":\"9976778899\"\n",
    "}\n",
    "\n",
    "#Serializing json\n",
    "json_object = json.dumps(dictionary, indent=10)\n",
    "\n",
    "#writing to sample.json\n",
    "with open(\"text1.json\",\"w\") as outfile:\n",
    "    outfile.write(json_object)"
   ]
  },
  {
   "cell_type": "code",
   "execution_count": 86,
   "metadata": {},
   "outputs": [
    {
     "name": "stdout",
     "output_type": "stream",
     "text": [
      "{'Name': 'Shivanika', 'RollNO': 144, 'cgpa': 8.6, 'PhoneNumber': '9976778899'}\n"
     ]
    }
   ],
   "source": [
    "import json\n",
    "\n",
    "with open('text1.json','r') as fp:\n",
    "    data=fp.read()\n",
    "    final_data=json.loads(data)\n",
    "    print(final_data)"
   ]
  },
  {
   "cell_type": "code",
   "execution_count": 99,
   "metadata": {},
   "outputs": [],
   "source": [
    "import csv\n",
    "\n",
    "fields= ['Name','Branch','Year','CGPA']\n",
    "#data rows of csv file\n",
    "rows=[['Nikhil','COE','2','9.0'], ['sanchit','COE','2','9.1'], ['sagar','IT','2','9.3'] ]\n",
    "#writing of csv file\n",
    "with open('text.csv','w',newline=\"\") as csvfile:\n",
    "    #Creating a csv writer object\n",
    "    csvwriter = csv.writer(csvfile,dialect='excel')\n",
    "    #writing the fields\n",
    "    csvwriter.writerow(fields)\n",
    "    csvwriter.writerows(rows)"
   ]
  },
  {
   "cell_type": "code",
   "execution_count": 94,
   "metadata": {},
   "outputs": [],
   "source": [
    "import csv\n",
    "\n",
    "fields= ['Name','Branch','Year','CGPA']\n",
    "#data rows of csv file\n",
    "rows=[['Nikhil','COE','2','9.0'], ['sanchit','COE','2','9.1'], ['sagar','IT','2','9.3'] ]\n",
    "#writing of csv file\n",
    "with open('text2.csv','w') as csvfile:\n",
    "    #Creating a csv writer object\n",
    "    csvwriter = csv.writer(csvfile,dialect='unix')\n",
    "    #writing the fields\n",
    "    csvwriter.writerow(fields)\n",
    "    csvwriter.writerows(rows)"
   ]
  },
  {
   "cell_type": "code",
   "execution_count": 98,
   "metadata": {},
   "outputs": [
    {
     "name": "stdout",
     "output_type": "stream",
     "text": [
      "['excel', 'excel-tab', 'unix']\n"
     ]
    }
   ],
   "source": [
    "import csv\n",
    "print(csv.list_dialects())"
   ]
  },
  {
   "cell_type": "code",
   "execution_count": 104,
   "metadata": {},
   "outputs": [],
   "source": [
    "import yaml\n",
    "\n",
    "#define data to be written to YAML file\n",
    "data ={\n",
    "    'key1':'value1','key2':'value2','key3':'value3'\n",
    "}\n",
    "\n",
    "#TO Write data to Yaml file\n",
    "with open('yam.yaml','w') as f:\n",
    "    yaml.dump(data,f,default_flow_style=False) \n"
   ]
  },
  {
   "cell_type": "code",
   "execution_count": 105,
   "metadata": {},
   "outputs": [
    {
     "name": "stdout",
     "output_type": "stream",
     "text": [
      "Defaulting to user installation because normal site-packages is not writeable\n",
      "Requirement already satisfied: pyyaml in c:\\users\\shivanika.x\\appdata\\roaming\\python\\python312\\site-packages (6.0.2)\n",
      "Note: you may need to restart the kernel to use updated packages.\n"
     ]
    },
    {
     "name": "stderr",
     "output_type": "stream",
     "text": [
      "\n",
      "[notice] A new release of pip is available: 24.0 -> 24.3.1\n",
      "[notice] To update, run: python.exe -m pip install --upgrade pip\n"
     ]
    }
   ],
   "source": [
    "pip install pyyaml"
   ]
  },
  {
   "cell_type": "code",
   "execution_count": 152,
   "metadata": {},
   "outputs": [
    {
     "ename": "AttributeError",
     "evalue": "'str' object has no attribute 'append'",
     "output_type": "error",
     "traceback": [
      "\u001b[1;31m---------------------------------------------------------------------------\u001b[0m",
      "\u001b[1;31mAttributeError\u001b[0m                            Traceback (most recent call last)",
      "Cell \u001b[1;32mIn[152], line 15\u001b[0m\n\u001b[0;32m     13\u001b[0m             l\u001b[38;5;241m.\u001b[39mappend(x)\n\u001b[0;32m     14\u001b[0m         \u001b[38;5;28;01melif\u001b[39;00m re\u001b[38;5;241m.\u001b[39mmatch(h,x):\n\u001b[1;32m---> 15\u001b[0m             \u001b[43mh\u001b[49m\u001b[38;5;241;43m.\u001b[39;49m\u001b[43mappend\u001b[49m(x)\n\u001b[0;32m     18\u001b[0m \u001b[38;5;28mprint\u001b[39m(l)\n",
      "\u001b[1;31mAttributeError\u001b[0m: 'str' object has no attribute 'append'"
     ]
    }
   ],
   "source": [
    "import re\n",
    "l=[]\n",
    "h=[]\n",
    "p=r\"www\\.\"\n",
    "h=r\"#\\w+\"\n",
    "with open('example.txt','r') as file:\n",
    "    f_contents=file.readline().split(\" \")\n",
    "   \n",
    "\n",
    "    #print(f_contents)\n",
    "    for x in f_contents:\n",
    "        if  re.match(p,x):\n",
    "            l.append(x)\n",
    "        elif re.match(h,x):\n",
    "            h.append(x)\n",
    "   \n",
    "      \n",
    "print(l)\n",
    "     \n",
    "       \n",
    "\n",
    "\n",
    "   \n",
    "\n"
   ]
  },
  {
   "cell_type": "code",
   "execution_count": 164,
   "metadata": {},
   "outputs": [
    {
     "ename": "ValueError",
     "evalue": "I/O operation on closed file.",
     "output_type": "error",
     "traceback": [
      "\u001b[1;31m---------------------------------------------------------------------------\u001b[0m",
      "\u001b[1;31mValueError\u001b[0m                                Traceback (most recent call last)",
      "Cell \u001b[1;32mIn[164], line 12\u001b[0m\n\u001b[0;32m     10\u001b[0m hashtags \u001b[38;5;241m=\u001b[39m []\n\u001b[0;32m     11\u001b[0m \u001b[38;5;66;03m#Reading the file and processing with open(file path, \"r\") as file:\u001b[39;00m\n\u001b[1;32m---> 12\u001b[0m \u001b[38;5;28;43;01mfor\u001b[39;49;00m\u001b[43m \u001b[49m\u001b[43mline\u001b[49m\u001b[43m \u001b[49m\u001b[38;5;129;43;01min\u001b[39;49;00m\u001b[43m \u001b[49m\u001b[43mfile\u001b[49m\u001b[43m:\u001b[49m\n\u001b[0;32m     13\u001b[0m \u001b[38;5;66;43;03m# Find aLL websites and hashtags in the Line\u001b[39;49;00m\n\u001b[0;32m     14\u001b[0m \u001b[43m    \u001b[49m\u001b[43mwebsites\u001b[49m\u001b[38;5;241;43m.\u001b[39;49m\u001b[43mextend\u001b[49m\u001b[43m(\u001b[49m\u001b[43mre\u001b[49m\u001b[38;5;241;43m.\u001b[39;49m\u001b[43mfindall\u001b[49m\u001b[43m \u001b[49m\u001b[43m(\u001b[49m\u001b[43mwebsite_pattern\u001b[49m\u001b[43m,\u001b[49m\u001b[43m \u001b[49m\u001b[43mline\u001b[49m\u001b[43m)\u001b[49m\u001b[43m)\u001b[49m\n\u001b[0;32m     15\u001b[0m \u001b[43m    \u001b[49m\u001b[43mhashtags\u001b[49m\u001b[38;5;241;43m.\u001b[39;49m\u001b[43mextend\u001b[49m\u001b[43m(\u001b[49m\u001b[43mre\u001b[49m\u001b[38;5;241;43m.\u001b[39;49m\u001b[43mfindall\u001b[49m\u001b[43m \u001b[49m\u001b[43m(\u001b[49m\u001b[43mhashtag_pattern\u001b[49m\u001b[43m,\u001b[49m\u001b[43m \u001b[49m\u001b[43mline\u001b[49m\u001b[43m)\u001b[49m\u001b[43m)\u001b[49m\n",
      "\u001b[1;31mValueError\u001b[0m: I/O operation on closed file."
     ]
    }
   ],
   "source": [
    "import re\n",
    "#File containing the text f\n",
    "\n",
    "file_path =\"example.txt\"\n",
    "#Regex patterns \n",
    "website_pattern = r'\\b(?:https?://(www.)\\5+\\b' \n",
    "hashtag_pattern = r'#\\w+'\n",
    "#Lists to store websites and hashtags\n",
    "websites = [] \n",
    "hashtags = []\n",
    "#Reading the file and processing with open(file path, \"r\") as file:\n",
    "for line in file:\n",
    "# Find aLL websites and hashtags in the Line\n",
    "    websites.extend(re.findall (website_pattern, line))\n",
    "    hashtags.extend(re.findall (hashtag_pattern, line))\n",
    "#Print the results\n",
    "print(\"Websites:\", websites) \n",
    "print(\"Hashtags:\", hashtags)"
   ]
  },
  {
   "cell_type": "code",
   "execution_count": 165,
   "metadata": {},
   "outputs": [],
   "source": [
    "#exception handling\n",
    "# run time error- file is not exist\n",
    "#Logical error - if you try to concat str and int it will concat oth instead sum of the number \n",
    "#Syntax error -\n"
   ]
  },
  {
   "cell_type": "code",
   "execution_count": 169,
   "metadata": {},
   "outputs": [
    {
     "name": "stdout",
     "output_type": "stream",
     "text": [
      "1.0\n",
      "0.5\n",
      "0.3333333333333333\n",
      "error <built-in function exc_info>\n",
      "0.25\n",
      "error <built-in function exc_info>\n"
     ]
    }
   ],
   "source": [
    "import sys\n",
    "a=[2,4,6,'a',8,0]\n",
    "for i in a:\n",
    "    try:\n",
    "        c=2/i\n",
    "        print(c)\n",
    "    except:\n",
    "        print(\"error\",sys.exc_info)\n"
   ]
  },
  {
   "cell_type": "code",
   "execution_count": 176,
   "metadata": {},
   "outputs": [
    {
     "name": "stdout",
     "output_type": "stream",
     "text": [
      "INVALID INPUT\n"
     ]
    }
   ],
   "source": [
    "# Multiple except in the single try block is exception nested\n",
    "try:\n",
    "    n1=int(input(\"Enter first number: \"))\n",
    "    n2=int(input(\"Enter second number: \"))\n",
    "    r=n1/n2\n",
    "    print(r)\n",
    "except ValueError as e:\n",
    "    print(\"INVALID INPUT\")\n",
    "except ZeroDivisionError as e:\n",
    "    print(e)"
   ]
  },
  {
   "cell_type": "code",
   "execution_count": 183,
   "metadata": {},
   "outputs": [
    {
     "name": "stdout",
     "output_type": "stream",
     "text": [
      "INVALID INPUT\n"
     ]
    }
   ],
   "source": [
    "try:\n",
    "    n1=int(input(\"Enter first number: \"))\n",
    "    n2=int(input(\"Enter second number: \"))\n",
    "    r=n1/n2\n",
    "    print(r)\n",
    "except ArithmeticError as e:\n",
    "    print(\"INVALID INPUT\")"
   ]
  },
  {
   "cell_type": "code",
   "execution_count": 191,
   "metadata": {},
   "outputs": [
    {
     "name": "stdout",
     "output_type": "stream",
     "text": [
      "AssertionError x should be greater than y\n"
     ]
    }
   ],
   "source": [
    "try:\n",
    "    x=5\n",
    "    y=10\n",
    "    assert x>y, \"x should be greater than y\"\n",
    "except AssertionError as e:\n",
    "    print(\"AssertionError\",e)\n"
   ]
  },
  {
   "cell_type": "code",
   "execution_count": 194,
   "metadata": {},
   "outputs": [
    {
     "name": "stdout",
     "output_type": "stream",
     "text": [
      "AttributeError 'int' object has no attribute 'append'\n"
     ]
    }
   ],
   "source": [
    "try:\n",
    "    obj = 10 \n",
    "    print(obj.append(5))\n",
    "except AttributeError as e:\n",
    "    print(\"AttributeError\",e)\n",
    "\n",
    "\n"
   ]
  },
  {
   "cell_type": "code",
   "execution_count": 204,
   "metadata": {},
   "outputs": [],
   "source": [
    "try:\n",
    "    d = input(\"Enter something: \")\n",
    "except EOFError as e:\n",
    "    print(\"EOFError: No input received\",e)\n"
   ]
  },
  {
   "cell_type": "code",
   "execution_count": 201,
   "metadata": {},
   "outputs": [
    {
     "name": "stdout",
     "output_type": "stream",
     "text": [
      "Import error No module named 'shivanika'\n"
     ]
    }
   ],
   "source": [
    "try:\n",
    "    import shivanika\n",
    "    pow(2,3)\n",
    "except ImportError as e:\n",
    "    print(\"Import error\",e)"
   ]
  },
  {
   "cell_type": "code",
   "execution_count": 205,
   "metadata": {},
   "outputs": [
    {
     "name": "stdout",
     "output_type": "stream",
     "text": [
      "IndexError list index out of range\n"
     ]
    }
   ],
   "source": [
    "try: \n",
    "    l = [1, 2, 3]\n",
    "    print(l[3])  \n",
    "except IndexError as e:\n",
    "    print(\"IndexError\",e)"
   ]
  },
  {
   "cell_type": "code",
   "execution_count": 209,
   "metadata": {},
   "outputs": [
    {
     "ename": "Exception",
     "evalue": "error, please give a positive value",
     "output_type": "error",
     "traceback": [
      "\u001b[1;31m---------------------------------------------------------------------------\u001b[0m",
      "\u001b[1;31mException\u001b[0m                                 Traceback (most recent call last)",
      "Cell \u001b[1;32mIn[209], line 4\u001b[0m\n\u001b[0;32m      2\u001b[0m x\u001b[38;5;241m=\u001b[39m\u001b[38;5;241m-\u001b[39m\u001b[38;5;241m10\u001b[39m\n\u001b[0;32m      3\u001b[0m \u001b[38;5;28;01mif\u001b[39;00m x\u001b[38;5;241m<\u001b[39m\u001b[38;5;241m0\u001b[39m:\n\u001b[1;32m----> 4\u001b[0m  \u001b[38;5;28;01mraise\u001b[39;00m \u001b[38;5;167;01mException\u001b[39;00m(\u001b[38;5;124m'\u001b[39m\u001b[38;5;124merror, please give a positive value\u001b[39m\u001b[38;5;124m'\u001b[39m)\n",
      "\u001b[1;31mException\u001b[0m: error, please give a positive value"
     ]
    }
   ],
   "source": [
    "# user defined errors\n",
    "x=-10\n",
    "if x<0:\n",
    " raise Exception('error, please give a positive value')"
   ]
  },
  {
   "cell_type": "code",
   "execution_count": 212,
   "metadata": {},
   "outputs": [
    {
     "ename": "Exception",
     "evalue": "Only integers are allowed",
     "output_type": "error",
     "traceback": [
      "\u001b[1;31m---------------------------------------------------------------------------\u001b[0m",
      "\u001b[1;31mException\u001b[0m                                 Traceback (most recent call last)",
      "Cell \u001b[1;32mIn[212], line 3\u001b[0m\n\u001b[0;32m      1\u001b[0m x\u001b[38;5;241m=\u001b[39ma\n\u001b[0;32m      2\u001b[0m \u001b[38;5;28;01mif\u001b[39;00m \u001b[38;5;129;01mnot\u001b[39;00m \u001b[38;5;28mtype\u001b[39m(x) \u001b[38;5;129;01mis\u001b[39;00m \u001b[38;5;28mint\u001b[39m:\n\u001b[1;32m----> 3\u001b[0m     \u001b[38;5;28;01mraise\u001b[39;00m \u001b[38;5;167;01mException\u001b[39;00m(\u001b[38;5;124m'\u001b[39m\u001b[38;5;124mOnly integers are allowed\u001b[39m\u001b[38;5;124m'\u001b[39m)\n",
      "\u001b[1;31mException\u001b[0m: Only integers are allowed"
     ]
    }
   ],
   "source": [
    "x=a\n",
    "if not type(x) is int:\n",
    "    raise Exception('Only integers are allowed')"
   ]
  },
  {
   "cell_type": "code",
   "execution_count": 214,
   "metadata": {},
   "outputs": [
    {
     "name": "stdout",
     "output_type": "stream",
     "text": [
      "30 Is vaild\n"
     ]
    }
   ],
   "source": [
    "age=30\n",
    "if age<20:\n",
    "    raise Exception('Age must be greater than 18')\n",
    "print(age,'Is vaild')"
   ]
  },
  {
   "cell_type": "code",
   "execution_count": 218,
   "metadata": {},
   "outputs": [
    {
     "name": "stdout",
     "output_type": "stream",
     "text": [
      "Error: Negative numbers are not allowed\n"
     ]
    }
   ],
   "source": [
    "#custom Exception\n",
    "class NegativeNumberError(Exception):\n",
    "    pass\n",
    "try:\n",
    "    n=int(input(\"Enter a positive number: \"))\n",
    "    if n<0:\n",
    "        raise NegativeNumberError(\"Negative numbers are not allowed\")\n",
    "    print(f\"You entered: {n}\")\n",
    "\n",
    "except NegativeNumberError as e:\n",
    "    print(f\"Error: {e}\")"
   ]
  },
  {
   "cell_type": "code",
   "execution_count": 220,
   "metadata": {},
   "outputs": [
    {
     "name": "stdout",
     "output_type": "stream",
     "text": [
      "Inner Exception: invalid literal for int() with base 10: '#multiple exceptions'\n",
      "outer Exception:'An additional key error occured.'\n"
     ]
    }
   ],
   "source": [
    "#Chained Exceptions\n",
    "try:\n",
    "    try:\n",
    "        n=int(input(\"Enter a number: \"))\n",
    "        if n==0:\n",
    "            raise ValueError(\"Zero is not allowed.\")\n",
    "    except ValueError as ve:\n",
    "        print(f\"Inner Exception: {ve}\")\n",
    "        raise KeyError(\"An additional key error occured.\") from ve\n",
    "except KeyError as ke:\n",
    "    print(f\"outer Exception:{ke}\")"
   ]
  },
  {
   "cell_type": "code",
   "execution_count": 223,
   "metadata": {},
   "outputs": [
    {
     "name": "stdout",
     "output_type": "stream",
     "text": [
      "error: invalid literal for int() with base 10: 'a'\n"
     ]
    }
   ],
   "source": [
    "#multiple exceptions - single exception carrying multiple errors\n",
    "\n",
    "try:\n",
    "    n1=int(input(\"Enter Numerator: \"))\n",
    "    n2=int(input(\"Enter denominator: \"))\n",
    "    print(f\"Result: {n1/n2}\")\n",
    "except(ValueError,ZeroDivisionError) as e:\n",
    "    print(f\"error: {e}\")\n"
   ]
  }
 ],
 "metadata": {
  "kernelspec": {
   "display_name": "Python 3",
   "language": "python",
   "name": "python3"
  },
  "language_info": {
   "codemirror_mode": {
    "name": "ipython",
    "version": 3
   },
   "file_extension": ".py",
   "mimetype": "text/x-python",
   "name": "python",
   "nbconvert_exporter": "python",
   "pygments_lexer": "ipython3",
   "version": "3.12.3"
  }
 },
 "nbformat": 4,
 "nbformat_minor": 2
}
