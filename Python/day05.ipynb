{
 "cells": [
  {
   "cell_type": "code",
   "execution_count": 2,
   "metadata": {},
   "outputs": [
    {
     "name": "stdout",
     "output_type": "stream",
     "text": [
      "30\n"
     ]
    }
   ],
   "source": [
    "class cal:\n",
    "    a=10\n",
    "    b=20\n",
    "    c=a+b\n",
    "    print(c)"
   ]
  },
  {
   "cell_type": "code",
   "execution_count": 5,
   "metadata": {},
   "outputs": [
    {
     "name": "stdout",
     "output_type": "stream",
     "text": [
      "30\n",
      "10\n",
      "10\n"
     ]
    }
   ],
   "source": [
    "class cal:\n",
    "    a=10\n",
    "    b=20\n",
    "    c=a+b\n",
    "    print(c)\n",
    "obj=cal() #object\n",
    "print(obj.a)\n",
    "print(cal.a)"
   ]
  },
  {
   "cell_type": "code",
   "execution_count": 43,
   "metadata": {},
   "outputs": [
    {
     "name": "stdout",
     "output_type": "stream",
     "text": [
      "[('shivani', 'a', '1')]\n",
      "None\n"
     ]
    }
   ],
   "source": [
    "class students:\n",
    "    name=''\n",
    "    sec=''\n",
    "    rollno=''\n",
    "    def __init__(self,name,sec,rollno):\n",
    "        self.name=name\n",
    "        self.sec=sec\n",
    "        self.rollno=rollno\n",
    "    def stud(self):\n",
    "        l=[]\n",
    "        l.append((self.name,self.sec,self.rollno))\n",
    "        print(l)\n",
    "    def remov(self,name):\n",
    "        for i in self.l:\n",
    "            if name in i:\n",
    "                self.l.remove(i)\n",
    "\n",
    "obj=students(\"shivani\",\"a\",\"1\")\n",
    "\n",
    "print(obj.stud())\n",
    "\n"
   ]
  },
  {
   "cell_type": "code",
   "execution_count": 46,
   "metadata": {},
   "outputs": [
    {
     "name": "stdout",
     "output_type": "stream",
     "text": [
      "[['shivani', 'a', '1'], ['haritha', 'a', '1']]\n"
     ]
    }
   ],
   "source": [
    "class students:\n",
    "    def __init__(self):\n",
    "        self.l=[]\n",
    "    def stud(self,name,sec,rollno):\n",
    "       d=[name,sec,rollno]\n",
    "       self.l.append(d)\n",
    "    def remov(self,name):\n",
    "        for i in self.l:\n",
    "            if name in i:\n",
    "                self.l.remove(i)\n",
    "obj=students()\n",
    "obj.stud(\"shivani\",\"a\",\"1\")\n",
    "obj.stud(\"haritha\",\"a\",\"1\")\n",
    "#obj.remov(\"sanjana\")\n",
    "print(obj.l)\n",
    "\n"
   ]
  },
  {
   "cell_type": "code",
   "execution_count": 56,
   "metadata": {},
   "outputs": [
    {
     "name": "stdout",
     "output_type": "stream",
     "text": [
      "[['shivani', 'a', '1'], ['haritha', 'a', '2']]\n",
      "[['shivani', 'a', '1'], ['sanjana', 'a', '2']]\n"
     ]
    }
   ],
   "source": [
    "class students:\n",
    "    def __init__(self):\n",
    "        self.l=[]\n",
    "    def stud(self,name,sec,rollno):\n",
    "       d=[name,sec,rollno]\n",
    "       self.l.append(d)\n",
    "    def remov(self,name):\n",
    "        for i in self.l:\n",
    "            if name in i:\n",
    "                self.l.remove(i)\n",
    "    def update(self,old_val,new_val):\n",
    "        for i in self.l:\n",
    "            if old_val in i:\n",
    "                ind=i.index(old_val)\n",
    "                i[ind]=new_val\n",
    "\n",
    "obj=students()\n",
    "obj.stud(\"shivani\",\"a\",\"1\")\n",
    "obj.stud(\"haritha\",\"a\",\"2\")\n",
    "print(obj.l)\n",
    "obj.update('haritha','sanjana')\n",
    "#obj.remov(\"sanjana\")\n",
    "print(obj.l)"
   ]
  },
  {
   "cell_type": "code",
   "execution_count": 61,
   "metadata": {},
   "outputs": [
    {
     "name": "stdout",
     "output_type": "stream",
     "text": [
      "base\n",
      "derived\n"
     ]
    }
   ],
   "source": [
    "#INHERITANCE\n",
    "class b():\n",
    "    a=\"base\"\n",
    "class d(b):\n",
    "    b=\"derived\"\n",
    "\n",
    "o=d()\n",
    "print(o.a)\n",
    "print(o.b)"
   ]
  },
  {
   "cell_type": "code",
   "execution_count": 64,
   "metadata": {},
   "outputs": [
    {
     "name": "stdout",
     "output_type": "stream",
     "text": [
      "I'm car\n",
      "general use: transportation\n",
      "specific use: commute to work, vacation with family\n",
      "I'M motor cycle\n",
      "general use: transportation\n",
      "specific use: road trip, racing\n"
     ]
    }
   ],
   "source": [
    "class vehicle:\n",
    "    def general_usage(self):\n",
    "        print(\"general use: transportation\")\n",
    "class car(vehicle):\n",
    "    def __init__(self):\n",
    "        print(\"I'm car\")\n",
    "        self.wheels = 4\n",
    "        self.has_roof = True\n",
    "    def specific_usage(self):\n",
    "        print(\"specific use: commute to work, vacation with family\")\n",
    "class motorcycle(vehicle):\n",
    "    def __init__(self):\n",
    "        print(\"I'M motor cycle\")\n",
    "        self.wheel = 2\n",
    "        self.has_roof = False\n",
    "    def specific_usage(self):\n",
    "        print(\"specific use: road trip, racing\")\n",
    "\n",
    "c=car()\n",
    "c.general_usage()\n",
    "c.specific_usage()\n",
    "m=motorcycle()\n",
    "m.general_usage()\n",
    "m.specific_usage()"
   ]
  },
  {
   "cell_type": "code",
   "execution_count": 73,
   "metadata": {},
   "outputs": [
    {
     "name": "stdout",
     "output_type": "stream",
     "text": [
      "A initialized\n",
      "B initialized\n",
      "C initialized\n"
     ]
    }
   ],
   "source": [
    "#super function\n",
    "class A:\n",
    "    def __init__(self):\n",
    "        print(\"A initialized\")\n",
    "class B(A):\n",
    "    def __init__(self):\n",
    "        super().__init__()\n",
    "        print(\"B initialized\") \n",
    "class C(B,A):\n",
    "     def __init__(self):\n",
    "        super().__init__()\n",
    "        print(\"C initialized\") \n",
    "\n",
    "c=C()"
   ]
  },
  {
   "cell_type": "code",
   "execution_count": 74,
   "metadata": {},
   "outputs": [
    {
     "name": "stdout",
     "output_type": "stream",
     "text": [
      "Jhon Doe\n",
      "30\n",
      "12345\n"
     ]
    }
   ],
   "source": [
    "#Isintance\n",
    "class Person:\n",
    "    def __init__(self,name,age):\n",
    "        self.name=name\n",
    "        self.age=age\n",
    "class Employee(Person):\n",
    "    def __init__(self,name,age,emp_id):\n",
    "        super().__init__(name,age)\n",
    "        self.emp_id=emp_id\n",
    "\n",
    "emp=Employee(\"Jhon Doe\",30,12345)\n",
    "print(emp.name)\n",
    "print(emp.age)\n",
    "print(emp.emp_id)"
   ]
  },
  {
   "cell_type": "code",
   "execution_count": 78,
   "metadata": {},
   "outputs": [
    {
     "name": "stdout",
     "output_type": "stream",
     "text": [
      "A\n",
      "C\n",
      "B\n",
      "D\n"
     ]
    }
   ],
   "source": [
    "class A:\n",
    "    def __init__(self):\n",
    "        print(\"A\")\n",
    "class B(A):\n",
    "    def __init__(self):\n",
    "        super().__init__()\n",
    "        print(\"B\")\n",
    "class C(A):\n",
    "    def __init__(self):\n",
    "        super().__init__()\n",
    "        print(\"C\")\n",
    "class D(B,C):\n",
    "    def __init__(self):\n",
    "        super().__init__()\n",
    "        print(\"D\")\n",
    "\n",
    "d=D()"
   ]
  },
  {
   "cell_type": "code",
   "execution_count": 86,
   "metadata": {},
   "outputs": [
    {
     "name": "stdout",
     "output_type": "stream",
     "text": [
      "51\n",
      "200\n",
      "10\n"
     ]
    }
   ],
   "source": [
    "#overloading Indirect polymorphism only indirect pol\n",
    "\n",
    "def sum(a=None,b=None,c=None):\n",
    "    if a!=None and b!=None and c!=None:\n",
    "        c=a+b+c\n",
    "    elif a!=None and b!=None:\n",
    "        c=a*b\n",
    "    else:\n",
    "        c=a\n",
    "    print(c) \n",
    "\n",
    "a=int(input(\"a= \"))\n",
    "sum(a,20,30)\n",
    "sum(10,20)\n",
    "sum(10)"
   ]
  },
  {
   "cell_type": "code",
   "execution_count": 88,
   "metadata": {},
   "outputs": [
    {
     "name": "stdout",
     "output_type": "stream",
     "text": [
      "Defaulting to user installation because normal site-packages is not writeable\n",
      "Requirement already satisfied: multipledispatch in c:\\users\\shivanika.x\\appdata\\roaming\\python\\python312\\site-packages (1.0.0)\n",
      "Note: you may need to restart the kernel to use updated packages.\n"
     ]
    },
    {
     "name": "stderr",
     "output_type": "stream",
     "text": [
      "\n",
      "[notice] A new release of pip is available: 24.0 -> 24.3.1\n",
      "[notice] To update, run: python.exe -m pip install --upgrade pip\n"
     ]
    }
   ],
   "source": [
    "pip install multipledispatch"
   ]
  },
  {
   "cell_type": "code",
   "execution_count": 92,
   "metadata": {},
   "outputs": [
    {
     "name": "stdout",
     "output_type": "stream",
     "text": [
      "7.3\n",
      "14.96\n",
      "4\n"
     ]
    }
   ],
   "source": [
    "from multipledispatch import dispatch #OVERLOADING - same function different calling statement\n",
    "#Passing one parameter\n",
    "@dispatch(int,int) #decorator\n",
    "def product(first,second):\n",
    "    result=first*second\n",
    "    print(result)\n",
    "\n",
    "#Passing one parameter\n",
    "@dispatch(int,int,float) #decorator\n",
    "def product(first,second,third):\n",
    "    result=first+second+third\n",
    "    print(result)\n",
    "\n",
    "#you can also pass data type of any value as per requirement  \n",
    "@dispatch(float,float,int) #decorator\n",
    "def product(first,second,third):\n",
    "    result=first*second*third\n",
    "    print(result)\n",
    "\n",
    "product(2,3,2.3)\n",
    "product(2.2,3.4,2)\n",
    "product(2,2)\n",
    "    "
   ]
  },
  {
   "cell_type": "code",
   "execution_count": 5,
   "metadata": {},
   "outputs": [
    {
     "name": "stdout",
     "output_type": "stream",
     "text": [
      "public\n",
      "protected\n",
      "hello\n"
     ]
    }
   ],
   "source": [
    "class Myclass:\n",
    "    def __init__(self):\n",
    "        self.public_attr = 'public'\n",
    "        self._protected_attr = 'protected'\n",
    "        self.__private_attr = 'private'\n",
    "    def __get_private_attr(self):\n",
    "        print(\"hello\")\n",
    "        return self.__private_attr\n",
    "    def set_private_attr(self, value):\n",
    "        self.__get_private_attr()\n",
    "        self.__private_attr = value\n",
    "obj = Myclass()\n",
    "print(obj.public_attr)\n",
    "print(obj._protected_attr)\n",
    "#print(obj.__get_private_attr())\n",
    "obj.set_private_attr(10)"
   ]
  },
  {
   "cell_type": "code",
   "execution_count": 18,
   "metadata": {},
   "outputs": [
    {
     "name": "stdout",
     "output_type": "stream",
     "text": [
      "I have 3 sides\n"
     ]
    }
   ],
   "source": [
    "from abc import ABC, abstractmethod\n",
    "\n",
    "class polygon(ABC):\n",
    "\n",
    "    @abstractmethod\n",
    "    def noofsides(self):\n",
    "        pass\n",
    "\n",
    "class Triangle(polygon):\n",
    "        #overriding abstract method\n",
    "    # def noofsides1(self): if you change the def function name or it is diffrent from the main class then it will throw a error\n",
    "    def noofsides(self):\n",
    "        print(\"I have 3 sides\")\n",
    "\n",
    "class pentagon(polygon):\n",
    "\n",
    "    def noofsides(self):\n",
    "        print(\"I have 5 sides\")\n",
    "\n",
    "class Hexagon(polygon):\n",
    "    def noofsides(self):\n",
    "        print(\"I have 6 sides\")\n",
    "\n",
    "obj=Triangle()\n",
    "obj.noofsides()\n",
    "#obj.noofsides1()\n",
    "\n",
    "\n"
   ]
  },
  {
   "cell_type": "code",
   "execution_count": 56,
   "metadata": {},
   "outputs": [
    {
     "name": "stdout",
     "output_type": "stream",
     "text": [
      "10\n",
      "20\n",
      "30\n",
      "30\n"
     ]
    }
   ],
   "source": [
    "class Number:\n",
    "    def __init__(self,value):\n",
    "        self.value=value\n",
    "        print(self.value)\n",
    "    def __add__(self,other):\n",
    "        return Number(self.value + other.value)\n",
    "    def __str__(self):\n",
    "        return str(self.value) \n",
    "       \n",
    "\n",
    "n1=Number(10)\n",
    "n2=Number(20)\n",
    "n3=n1+n2\n",
    "print(n3)"
   ]
  },
  {
   "cell_type": "code",
   "execution_count": 63,
   "metadata": {},
   "outputs": [
    {
     "name": "stdout",
     "output_type": "stream",
     "text": [
      "5\n",
      "Deleting radius\n"
     ]
    }
   ],
   "source": [
    "#property\n",
    "class circle:\n",
    "    def __init__(self,radius):\n",
    "        self._radius=radius #protected attribute\n",
    "\n",
    "    def get_radius(self):\n",
    "        return self._radius\n",
    "    def set_radius(self,value):\n",
    "        if value<0:\n",
    "            raise ValueError(\"Radius cannot be negative\")\n",
    "        self._radius=value \n",
    "\n",
    "    def del_radius(self):\n",
    "        print(\"Deleting radius\")\n",
    "        del self._radius\n",
    "    \n",
    "    #Create property\n",
    "    radius=property(get_radius,set_radius,del_radius)\n",
    "\n",
    "#usage\n",
    "c=circle(5)\n",
    "print(c.radius)\n",
    "c.radius=10\n",
    "del c.radius"
   ]
  },
  {
   "cell_type": "code",
   "execution_count": 67,
   "metadata": {},
   "outputs": [
    {
     "name": "stdout",
     "output_type": "stream",
     "text": [
      "5\n",
      "Deleting radius\n"
     ]
    }
   ],
   "source": [
    "#property\n",
    "class circle:\n",
    "    def __init__(self,radius):\n",
    "        self._radius=radius #protected attribute\n",
    "    @property\n",
    "    def radius(self):\n",
    "        return self._radius #get\n",
    "    @radius.setter\n",
    "    def radius(self,value):\n",
    "        if value<0:\n",
    "            raise ValueError(\"Radius cannot be negative\")\n",
    "        self._radius=value \n",
    "    @radius.deleter\n",
    "    def radius(self):\n",
    "        print(\"Deleting radius\")\n",
    "        del self._radius\n",
    "    \n",
    "    \n",
    "#usage\n",
    "c=circle(5)\n",
    "print(c.radius)\n",
    "c.radius=10 #modify using setter\n",
    "del c.radius"
   ]
  },
  {
   "cell_type": "code",
   "execution_count": 74,
   "metadata": {},
   "outputs": [
    {
     "name": "stdout",
     "output_type": "stream",
     "text": [
      "400\n"
     ]
    },
    {
     "data": {
      "text/plain": [
       "'AVG 100, TOTAL400'"
      ]
     },
     "execution_count": 74,
     "metadata": {},
     "output_type": "execute_result"
    }
   ],
   "source": [
    "from statistics import mean\n",
    "\n",
    "class Marsheets:\n",
    "    def __init__(self):\n",
    "      self.m=[]\n",
    "      self.x=0\n",
    "      self.a=0\n",
    "    def marks(self,rollno,maths,science,csc,sst):\n",
    "       d=[rollno,maths,science,csc,sst]\n",
    "       self.m.append(d)\n",
    "    def total(self,n):\n",
    "       for i in self.m:\n",
    "          if n in i:\n",
    "            self.x= sum(i[1:])\n",
    "            print(self.x)\n",
    "    def av(self,n):\n",
    "        for i in self.m:\n",
    "          if n in i:\n",
    "            self.a=mean(i[1:])\n",
    "    def display(self):\n",
    "       return f\"AVG {self.a}, TOTAL{self.x}\"\n",
    "o=Marsheets()\n",
    "o.marks(3001,100,100,100,100)\n",
    "o.total(3001)\n",
    "o.av(3001)\n",
    "o.display()"
   ]
  },
  {
   "cell_type": "code",
   "execution_count": 109,
   "metadata": {},
   "outputs": [
    {
     "name": "stdout",
     "output_type": "stream",
     "text": [
      "400\n",
      "3001\n"
     ]
    },
    {
     "data": {
      "text/plain": [
       "' Rollno: 3001, Name: Shivani, AGE: 20, SEC: c, AVG: 100, TOTAL: 400'"
      ]
     },
     "execution_count": 109,
     "metadata": {},
     "output_type": "execute_result"
    }
   ],
   "source": [
    "from statistics import mean\n",
    "\n",
    "class Marsheets:\n",
    "    def __init__(self):\n",
    "      self.m=[]\n",
    "      self.x=0\n",
    "      self.a=0\n",
    "      self.data=[]\n",
    "      self.rollno=\"\"\n",
    "      self.name=\"\"\n",
    "      self.age=\"\"\n",
    "      self.sec=\"\"\n",
    "    def datas(self,rollno,name,age,sec):\n",
    "       d1=[rollno,name,age,sec]\n",
    "       self.data.append(d1)\n",
    "    def marks(self,rollno,maths,science,csc,sst):\n",
    "       d=[rollno,maths,science,csc,sst]\n",
    "       self.m.append(d)\n",
    "    def total(self,n):\n",
    "       for i in self.m:\n",
    "          if n in i:\n",
    "            self.x= sum(i[1:])\n",
    "            print(self.x)\n",
    "    def av(self,n):\n",
    "        for i in self.m:\n",
    "          if n in i:\n",
    "            self.a=mean(i[1:])\n",
    "    def acc(self,n):\n",
    "       for i in self.data:\n",
    "          if n in i:\n",
    "            self.rollno=i[0]\n",
    "            self.name = i[1] \n",
    "            self.age = i[2]\n",
    "            self.sec = i[3] \n",
    "            print(self.rollno)\n",
    "    def display(self):\n",
    "       return f\" Rollno: {self.rollno}, Name: {self.name}, AGE: {self.age}, SEC: {self.sec}, AVG: {self.a}, TOTAL: {self.x}\"\n",
    "o=Marsheets()\n",
    "o.datas(3001,'Shivani','20','c')\n",
    "o.marks(3001,100,100,100,100)\n",
    "o.total(3001)\n",
    "o.av(3001)\n",
    "o.acc(3001)\n",
    "o.display()\n",
    "#print(o.data)"
   ]
  },
  {
   "cell_type": "code",
   "execution_count": 107,
   "metadata": {},
   "outputs": [
    {
     "ename": "IndentationError",
     "evalue": "unindent does not match any outer indentation level (<string>, line 32)",
     "output_type": "error",
     "traceback": [
      "\u001b[1;36m  File \u001b[1;32m<string>:32\u001b[1;36m\u001b[0m\n\u001b[1;33m    def display(self):\u001b[0m\n\u001b[1;37m                      ^\u001b[0m\n\u001b[1;31mIndentationError\u001b[0m\u001b[1;31m:\u001b[0m unindent does not match any outer indentation level\n"
     ]
    }
   ],
   "source": [
    "from statistics import mean\n",
    "\n",
    "class Marsheets:\n",
    "    def __init__(self):\n",
    "      self.m=[]\n",
    "      self.x=0\n",
    "      self.a=0\n",
    "      self.data=[]\n",
    "      self.rollno=\"\"\n",
    "      self.name=\"\"\n",
    "      self.age=\"\"\n",
    "      self.sec=\"\"\n",
    "    def datas(self,rollno,name,age,sec):\n",
    "       d1=[rollno,name,age,sec]\n",
    "       self.data.append(d1)\n",
    "    def marks(self,rollno,maths,science,csc,sst):\n",
    "       d=[rollno,maths,science,csc,sst]\n",
    "       self.m.append(d)\n",
    "    def total(self,n):\n",
    "       for i in self.m:\n",
    "          if n in i:\n",
    "            self.x= sum(i[1:])\n",
    "            print(self.x)\n",
    "    def av(self,n):\n",
    "        for i in self.m:\n",
    "          if n in i:\n",
    "            self.a=mean(i[1:])\n",
    "class database(Marsheets):\n",
    "   def acc(self,n):\n",
    "       super().__init__(self.rollno,self.name,self.age)\n",
    "       self.rollno=rollno\n",
    "   def display(self):\n",
    "       return f\" Rollno: {self.rollno}, Name: {self.name}, AGE: {self.age}, SEC: {self.sec}, AVG: {self.a}, TOTAL: {self.x}\"\n",
    "o=Marsheets()\n",
    "o.datas(3001,'Shivani','20','c')\n",
    "o.marks(3001,100,100,100,100)\n",
    "o.total(3001)\n",
    "o.av(3001)\n",
    "o.acc(3001)\n",
    "o.display()\n",
    "#print(o.data)"
   ]
  },
  {
   "cell_type": "code",
   "execution_count": 1,
   "metadata": {},
   "outputs": [
    {
     "name": "stdout",
     "output_type": "stream",
     "text": [
      "Jhon Doe\n",
      "30\n",
      "12345\n"
     ]
    }
   ],
   "source": [
    "#Isintance\n",
    "class Person:\n",
    "    def __init__(self,name,age):\n",
    "        self.name=name\n",
    "        self.age=age\n",
    "class Employee(Person):\n",
    "    def __init__(self,name,age,emp_id):\n",
    "        super().__init__(name,age)\n",
    "        self.emp_id=emp_id\n",
    "\n",
    "emp=Employee(\"Jhon Doe\",30,12345)\n",
    "print(emp.name)\n",
    "print(emp.age)\n",
    "print(emp.emp_id)"
   ]
  }
 ],
 "metadata": {
  "kernelspec": {
   "display_name": "Python 3",
   "language": "python",
   "name": "python3"
  },
  "language_info": {
   "codemirror_mode": {
    "name": "ipython",
    "version": 3
   },
   "file_extension": ".py",
   "mimetype": "text/x-python",
   "name": "python",
   "nbconvert_exporter": "python",
   "pygments_lexer": "ipython3",
   "version": "3.12.3"
  }
 },
 "nbformat": 4,
 "nbformat_minor": 2
}
